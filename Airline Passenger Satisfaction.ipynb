{
 "cells": [
  {
   "cell_type": "markdown",
   "id": "4c397f61",
   "metadata": {},
   "source": [
    "# Airline Passenger Satisfaction Analysis\n",
    "\n",
    "> **BY ABDULRAHEEM BASHIR**\n",
    "\n",
    "## Table of Contents\n",
    "<ul>\n",
    "<li><a href=\"#intro\">Introduction</a></li>\n",
    "<li><a href=\"#import\">Importing required files and libraries</a></li>\n",
    "<li><a href=\"#invest\">Data Inspection</a></li>\n",
    "<li><a href=\"#clean\">Data Cleaning</a></li>\n",
    "<li><a href=\"#check\">Sanity Check after Data Cleaning</a></li>\n",
    "<li><a href=\"#explore\">Data Exploration and Analysis</a></li>\n",
    "<li><a href=\"#rec\">Recommendations</a></li>\n",
    "</ul>"
   ]
  },
  {
   "cell_type": "markdown",
   "id": "345cc272",
   "metadata": {},
   "source": [
    "<a id='intro'></a>\n",
    "## Introduction"
   ]
  },
  {
   "cell_type": "markdown",
   "id": "239f6f69",
   "metadata": {},
   "source": [
    "> This project is the product of my continuous learning and getting my hands dirty with data analysis in Python.\n",
    "\n",
    "**About Data**\n",
    "\n",
    "This dataset was derived from the data playground of the Maven Analytics platform.\n",
    "\n",
    "**Background info and context**\n",
    "\n",
    "Customer satisfaction scores from 120,000+ airline passengers, including additional information about each passenger, their flight, and type of travel, as well as ther evaluation of different factors like cleanliness, comfort, service, and overall experience.\n",
    "\n",
    "**Recommended Analysis:** The following are the questions I will be solving through out the analysis:\n",
    "1. Which percentage of airline passengers are satisfied? Does it vary by customer type? What about type of travel?\n",
    "2. What is the customer profile for a repeating airline passenger?\n",
    "3. Does flight distance affect customer preferences or flight patterns?\n",
    "4. Which factors contribute to customer satisfaction the most? What about dissatisfaction?\n",
    "\n",
    "**Dataset:** The dataset contains one row for each passanger. The dataset can be downloaded from (Source: John D, via Kaggle).\n",
    "\n",
    "**Attribute Information:** The following are the dataset descriptions:\n",
    "- **ID:** Unique passenger identifier.\n",
    "- **Gender:** Gender of the passenger (Female/Male).\n",
    "- **Age:** Age of the passenger.\n",
    "- **Customer Type:** Type of airline customer (First-time/Returning).\n",
    "- **Type of Travel:** Purpose of the flight (Business/Personal).\n",
    "- **Class:** Travel class in the airplane for the passenger seat.\n",
    "- **Flight Distance:** Flight distance in miles.\n",
    "- **Departure Delay:** Flight departure delay in minutes.\n",
    "- **Arrival Delay:** Flight arrival delay in minutes.\n",
    "- **Departure and Arrival Time Convenience:** Satisfaction level with the convenience of the flight departure and arrival times from 1 (lowest) to 5 (highest) - 0 means \"not applicable\".\n",
    "- **Ease of Online Booking:** Satisfaction level with the online booking experience from 1 (lowest) to 5 (highest) - 0 means \"not applicable\".\n",
    "- **Check-in Service:** Satisfaction level with the check-in service from 1 (lowest) to 5 (highest) - 0 means \"not applicable\".\n",
    "- **Online Boarding:** Satisfaction level with the online boarding experience from 1 (lowest) to 5 (highest) - 0 means \"not applicable\".\n",
    "- **Gate Location:** Satisfaction level with the gate location in the airport from 1 (lowest) to 5 (highest) - 0 means \"not applicable\".\n",
    "- **On-board Service:** Satisfaction level with the on-boarding service in the airport from 1 (lowest) to 5 (highest) - 0 means \"not applicable\".\n",
    "- **Seat Comfort:** Satisfaction level with the comfort of the airplane seat from 1 (lowest) to 5 (highest) - 0 means \"not applicable\".\n",
    "- **Leg Room Service:** Satisfaction level with the leg room of the airplane seat from 1 (lowest) to 5 (highest) - 0 means \"not applicable\".\n",
    "- **Cleanliness:** Satisfaction level with the cleanliness of the airplane from 1 (lowest) to 5 (highest) - 0 means \"not applicable\".\n",
    "- **Food and Drink:** Satisfaction level with the food and drinks on the airplane from 1 (lowest) to 5 (highest) - 0 means \"not applicable\".\n",
    "- **In-flight Service:** Satisfaction level with the in-flight service from 1 (lowest) to 5 (highest) - 0 means \"not applicable\".\n",
    "- **In-flight Wifi Service:** Satisfaction level with the in-flight Wifi service from 1 (lowest) to 5 (highest) - 0 means \"not applicable\".\n",
    "- **In-flight Entertainment:** Satisfaction level with the in-flight entertainment from 1 (lowest) to 5 (highest) - 0 means \"not applicable\".\n",
    "- **Baggage Handling:** Satisfaction level with the baggage handling from the airline from 1 (lowest) to 5 (highest) - 0 means \"not applicable\".\n",
    "- **Satisfaction:** Overall satisfaction level with the airline (Satisfied/Neutral or unsatisfied).\n",
    "\n",
    "I will be providing insights base on the recommended analysis above."
   ]
  },
  {
   "cell_type": "markdown",
   "id": "485ff8d8",
   "metadata": {},
   "source": [
    "<a id='import'></a>\n",
    "## Importing files and libraries\n",
    "> In this section, I will be Importing required files and libraries"
   ]
  },
  {
   "cell_type": "code",
   "execution_count": 1,
   "id": "faec530d",
   "metadata": {
    "ExecuteTime": {
     "end_time": "2024-01-15T13:47:01.922124Z",
     "start_time": "2024-01-15T13:46:59.009859Z"
    },
    "id": "hdXm_cGCZCpH"
   },
   "outputs": [],
   "source": [
    "# importing all necessary packages\n",
    "\n",
    "import pandas as pd\n",
    "import numpy as np\n",
    "import matplotlib.pyplot as plt\n",
    "import seaborn as sns\n",
    "import warnings\n",
    "warnings.filterwarnings('ignore')"
   ]
  },
  {
   "cell_type": "code",
   "execution_count": 40,
   "id": "73d55e8f",
   "metadata": {
    "ExecuteTime": {
     "end_time": "2024-01-15T13:58:49.646879Z",
     "start_time": "2024-01-15T13:58:49.641851Z"
    }
   },
   "outputs": [],
   "source": [
    "# # Setting up the cells to display all Columns and rows\n",
    "\n",
    "# pd.set_option('display.max_columns', None)\n",
    "# pd.set_option('display.max_rows', None)"
   ]
  },
  {
   "cell_type": "code",
   "execution_count": 3,
   "id": "59dd6508",
   "metadata": {
    "ExecuteTime": {
     "end_time": "2024-01-15T13:47:02.320297Z",
     "start_time": "2024-01-15T13:47:01.941952Z"
    }
   },
   "outputs": [],
   "source": [
    "# reading in the data\n",
    "\n",
    "data = pd.read_csv('airline_passenger_satisfaction.csv')"
   ]
  },
  {
   "cell_type": "markdown",
   "id": "73a9229a",
   "metadata": {},
   "source": [
    "<a id='invest'></a>\n",
    "## Data Inspection\n",
    "> In this section, I will be scanning through the data so as to figure out the cleaning necessary on the data."
   ]
  },
  {
   "cell_type": "code",
   "execution_count": 4,
   "id": "38d2015d",
   "metadata": {
    "ExecuteTime": {
     "end_time": "2024-01-15T13:47:02.354999Z",
     "start_time": "2024-01-15T13:47:02.323293Z"
    },
    "scrolled": true
   },
   "outputs": [
    {
     "data": {
      "text/html": [
       "<div>\n",
       "<style scoped>\n",
       "    .dataframe tbody tr th:only-of-type {\n",
       "        vertical-align: middle;\n",
       "    }\n",
       "\n",
       "    .dataframe tbody tr th {\n",
       "        vertical-align: top;\n",
       "    }\n",
       "\n",
       "    .dataframe thead th {\n",
       "        text-align: right;\n",
       "    }\n",
       "</style>\n",
       "<table border=\"1\" class=\"dataframe\">\n",
       "  <thead>\n",
       "    <tr style=\"text-align: right;\">\n",
       "      <th></th>\n",
       "      <th>ID</th>\n",
       "      <th>Gender</th>\n",
       "      <th>Age</th>\n",
       "      <th>Customer Type</th>\n",
       "      <th>Type of Travel</th>\n",
       "      <th>Class</th>\n",
       "      <th>Flight Distance</th>\n",
       "      <th>Departure Delay</th>\n",
       "      <th>Arrival Delay</th>\n",
       "      <th>Departure and Arrival Time Convenience</th>\n",
       "      <th>...</th>\n",
       "      <th>On-board Service</th>\n",
       "      <th>Seat Comfort</th>\n",
       "      <th>Leg Room Service</th>\n",
       "      <th>Cleanliness</th>\n",
       "      <th>Food and Drink</th>\n",
       "      <th>In-flight Service</th>\n",
       "      <th>In-flight Wifi Service</th>\n",
       "      <th>In-flight Entertainment</th>\n",
       "      <th>Baggage Handling</th>\n",
       "      <th>Satisfaction</th>\n",
       "    </tr>\n",
       "  </thead>\n",
       "  <tbody>\n",
       "    <tr>\n",
       "      <th>0</th>\n",
       "      <td>1</td>\n",
       "      <td>Male</td>\n",
       "      <td>48</td>\n",
       "      <td>First-time</td>\n",
       "      <td>Business</td>\n",
       "      <td>Business</td>\n",
       "      <td>821</td>\n",
       "      <td>2</td>\n",
       "      <td>5.0</td>\n",
       "      <td>3</td>\n",
       "      <td>...</td>\n",
       "      <td>3</td>\n",
       "      <td>5</td>\n",
       "      <td>2</td>\n",
       "      <td>5</td>\n",
       "      <td>5</td>\n",
       "      <td>5</td>\n",
       "      <td>3</td>\n",
       "      <td>5</td>\n",
       "      <td>5</td>\n",
       "      <td>Neutral or Dissatisfied</td>\n",
       "    </tr>\n",
       "    <tr>\n",
       "      <th>1</th>\n",
       "      <td>2</td>\n",
       "      <td>Female</td>\n",
       "      <td>35</td>\n",
       "      <td>Returning</td>\n",
       "      <td>Business</td>\n",
       "      <td>Business</td>\n",
       "      <td>821</td>\n",
       "      <td>26</td>\n",
       "      <td>39.0</td>\n",
       "      <td>2</td>\n",
       "      <td>...</td>\n",
       "      <td>5</td>\n",
       "      <td>4</td>\n",
       "      <td>5</td>\n",
       "      <td>5</td>\n",
       "      <td>3</td>\n",
       "      <td>5</td>\n",
       "      <td>2</td>\n",
       "      <td>5</td>\n",
       "      <td>5</td>\n",
       "      <td>Satisfied</td>\n",
       "    </tr>\n",
       "    <tr>\n",
       "      <th>2</th>\n",
       "      <td>3</td>\n",
       "      <td>Male</td>\n",
       "      <td>41</td>\n",
       "      <td>Returning</td>\n",
       "      <td>Business</td>\n",
       "      <td>Business</td>\n",
       "      <td>853</td>\n",
       "      <td>0</td>\n",
       "      <td>0.0</td>\n",
       "      <td>4</td>\n",
       "      <td>...</td>\n",
       "      <td>3</td>\n",
       "      <td>5</td>\n",
       "      <td>3</td>\n",
       "      <td>5</td>\n",
       "      <td>5</td>\n",
       "      <td>3</td>\n",
       "      <td>4</td>\n",
       "      <td>3</td>\n",
       "      <td>3</td>\n",
       "      <td>Satisfied</td>\n",
       "    </tr>\n",
       "    <tr>\n",
       "      <th>3</th>\n",
       "      <td>4</td>\n",
       "      <td>Male</td>\n",
       "      <td>50</td>\n",
       "      <td>Returning</td>\n",
       "      <td>Business</td>\n",
       "      <td>Business</td>\n",
       "      <td>1905</td>\n",
       "      <td>0</td>\n",
       "      <td>0.0</td>\n",
       "      <td>2</td>\n",
       "      <td>...</td>\n",
       "      <td>5</td>\n",
       "      <td>5</td>\n",
       "      <td>5</td>\n",
       "      <td>4</td>\n",
       "      <td>4</td>\n",
       "      <td>5</td>\n",
       "      <td>2</td>\n",
       "      <td>5</td>\n",
       "      <td>5</td>\n",
       "      <td>Satisfied</td>\n",
       "    </tr>\n",
       "    <tr>\n",
       "      <th>4</th>\n",
       "      <td>5</td>\n",
       "      <td>Female</td>\n",
       "      <td>49</td>\n",
       "      <td>Returning</td>\n",
       "      <td>Business</td>\n",
       "      <td>Business</td>\n",
       "      <td>3470</td>\n",
       "      <td>0</td>\n",
       "      <td>1.0</td>\n",
       "      <td>3</td>\n",
       "      <td>...</td>\n",
       "      <td>3</td>\n",
       "      <td>4</td>\n",
       "      <td>4</td>\n",
       "      <td>5</td>\n",
       "      <td>4</td>\n",
       "      <td>3</td>\n",
       "      <td>3</td>\n",
       "      <td>3</td>\n",
       "      <td>3</td>\n",
       "      <td>Satisfied</td>\n",
       "    </tr>\n",
       "  </tbody>\n",
       "</table>\n",
       "<p>5 rows × 24 columns</p>\n",
       "</div>"
      ],
      "text/plain": [
       "   ID  Gender  Age Customer Type Type of Travel     Class  Flight Distance  \\\n",
       "0   1    Male   48    First-time       Business  Business              821   \n",
       "1   2  Female   35     Returning       Business  Business              821   \n",
       "2   3    Male   41     Returning       Business  Business              853   \n",
       "3   4    Male   50     Returning       Business  Business             1905   \n",
       "4   5  Female   49     Returning       Business  Business             3470   \n",
       "\n",
       "   Departure Delay  Arrival Delay  Departure and Arrival Time Convenience  \\\n",
       "0                2            5.0                                       3   \n",
       "1               26           39.0                                       2   \n",
       "2                0            0.0                                       4   \n",
       "3                0            0.0                                       2   \n",
       "4                0            1.0                                       3   \n",
       "\n",
       "   ...  On-board Service  Seat Comfort  Leg Room Service  Cleanliness  \\\n",
       "0  ...                 3             5                 2            5   \n",
       "1  ...                 5             4                 5            5   \n",
       "2  ...                 3             5                 3            5   \n",
       "3  ...                 5             5                 5            4   \n",
       "4  ...                 3             4                 4            5   \n",
       "\n",
       "   Food and Drink  In-flight Service  In-flight Wifi Service  \\\n",
       "0               5                  5                       3   \n",
       "1               3                  5                       2   \n",
       "2               5                  3                       4   \n",
       "3               4                  5                       2   \n",
       "4               4                  3                       3   \n",
       "\n",
       "   In-flight Entertainment  Baggage Handling             Satisfaction  \n",
       "0                        5                 5  Neutral or Dissatisfied  \n",
       "1                        5                 5                Satisfied  \n",
       "2                        3                 3                Satisfied  \n",
       "3                        5                 5                Satisfied  \n",
       "4                        3                 3                Satisfied  \n",
       "\n",
       "[5 rows x 24 columns]"
      ]
     },
     "execution_count": 4,
     "metadata": {},
     "output_type": "execute_result"
    }
   ],
   "source": [
    "# displaying few top rows from the dataframe\n",
    "\n",
    "data.head()"
   ]
  },
  {
   "cell_type": "code",
   "execution_count": 5,
   "id": "2204c3f8",
   "metadata": {
    "ExecuteTime": {
     "end_time": "2024-01-15T13:47:02.383421Z",
     "start_time": "2024-01-15T13:47:02.357996Z"
    }
   },
   "outputs": [
    {
     "data": {
      "text/html": [
       "<div>\n",
       "<style scoped>\n",
       "    .dataframe tbody tr th:only-of-type {\n",
       "        vertical-align: middle;\n",
       "    }\n",
       "\n",
       "    .dataframe tbody tr th {\n",
       "        vertical-align: top;\n",
       "    }\n",
       "\n",
       "    .dataframe thead th {\n",
       "        text-align: right;\n",
       "    }\n",
       "</style>\n",
       "<table border=\"1\" class=\"dataframe\">\n",
       "  <thead>\n",
       "    <tr style=\"text-align: right;\">\n",
       "      <th></th>\n",
       "      <th>ID</th>\n",
       "      <th>Gender</th>\n",
       "      <th>Age</th>\n",
       "      <th>Customer Type</th>\n",
       "      <th>Type of Travel</th>\n",
       "      <th>Class</th>\n",
       "      <th>Flight Distance</th>\n",
       "      <th>Departure Delay</th>\n",
       "      <th>Arrival Delay</th>\n",
       "      <th>Departure and Arrival Time Convenience</th>\n",
       "      <th>...</th>\n",
       "      <th>On-board Service</th>\n",
       "      <th>Seat Comfort</th>\n",
       "      <th>Leg Room Service</th>\n",
       "      <th>Cleanliness</th>\n",
       "      <th>Food and Drink</th>\n",
       "      <th>In-flight Service</th>\n",
       "      <th>In-flight Wifi Service</th>\n",
       "      <th>In-flight Entertainment</th>\n",
       "      <th>Baggage Handling</th>\n",
       "      <th>Satisfaction</th>\n",
       "    </tr>\n",
       "  </thead>\n",
       "  <tbody>\n",
       "    <tr>\n",
       "      <th>129875</th>\n",
       "      <td>129876</td>\n",
       "      <td>Male</td>\n",
       "      <td>28</td>\n",
       "      <td>Returning</td>\n",
       "      <td>Personal</td>\n",
       "      <td>Economy Plus</td>\n",
       "      <td>447</td>\n",
       "      <td>2</td>\n",
       "      <td>3.0</td>\n",
       "      <td>4</td>\n",
       "      <td>...</td>\n",
       "      <td>5</td>\n",
       "      <td>1</td>\n",
       "      <td>4</td>\n",
       "      <td>4</td>\n",
       "      <td>4</td>\n",
       "      <td>5</td>\n",
       "      <td>4</td>\n",
       "      <td>4</td>\n",
       "      <td>4</td>\n",
       "      <td>Neutral or Dissatisfied</td>\n",
       "    </tr>\n",
       "    <tr>\n",
       "      <th>129876</th>\n",
       "      <td>129877</td>\n",
       "      <td>Male</td>\n",
       "      <td>41</td>\n",
       "      <td>Returning</td>\n",
       "      <td>Personal</td>\n",
       "      <td>Economy Plus</td>\n",
       "      <td>308</td>\n",
       "      <td>0</td>\n",
       "      <td>0.0</td>\n",
       "      <td>5</td>\n",
       "      <td>...</td>\n",
       "      <td>5</td>\n",
       "      <td>2</td>\n",
       "      <td>5</td>\n",
       "      <td>2</td>\n",
       "      <td>2</td>\n",
       "      <td>4</td>\n",
       "      <td>3</td>\n",
       "      <td>2</td>\n",
       "      <td>5</td>\n",
       "      <td>Neutral or Dissatisfied</td>\n",
       "    </tr>\n",
       "    <tr>\n",
       "      <th>129877</th>\n",
       "      <td>129878</td>\n",
       "      <td>Male</td>\n",
       "      <td>42</td>\n",
       "      <td>Returning</td>\n",
       "      <td>Personal</td>\n",
       "      <td>Economy Plus</td>\n",
       "      <td>337</td>\n",
       "      <td>6</td>\n",
       "      <td>14.0</td>\n",
       "      <td>5</td>\n",
       "      <td>...</td>\n",
       "      <td>3</td>\n",
       "      <td>3</td>\n",
       "      <td>4</td>\n",
       "      <td>3</td>\n",
       "      <td>3</td>\n",
       "      <td>4</td>\n",
       "      <td>2</td>\n",
       "      <td>3</td>\n",
       "      <td>5</td>\n",
       "      <td>Neutral or Dissatisfied</td>\n",
       "    </tr>\n",
       "    <tr>\n",
       "      <th>129878</th>\n",
       "      <td>129879</td>\n",
       "      <td>Male</td>\n",
       "      <td>50</td>\n",
       "      <td>Returning</td>\n",
       "      <td>Personal</td>\n",
       "      <td>Economy Plus</td>\n",
       "      <td>337</td>\n",
       "      <td>31</td>\n",
       "      <td>22.0</td>\n",
       "      <td>4</td>\n",
       "      <td>...</td>\n",
       "      <td>4</td>\n",
       "      <td>4</td>\n",
       "      <td>5</td>\n",
       "      <td>3</td>\n",
       "      <td>3</td>\n",
       "      <td>4</td>\n",
       "      <td>5</td>\n",
       "      <td>3</td>\n",
       "      <td>5</td>\n",
       "      <td>Satisfied</td>\n",
       "    </tr>\n",
       "    <tr>\n",
       "      <th>129879</th>\n",
       "      <td>129880</td>\n",
       "      <td>Female</td>\n",
       "      <td>20</td>\n",
       "      <td>Returning</td>\n",
       "      <td>Personal</td>\n",
       "      <td>Economy Plus</td>\n",
       "      <td>337</td>\n",
       "      <td>0</td>\n",
       "      <td>0.0</td>\n",
       "      <td>1</td>\n",
       "      <td>...</td>\n",
       "      <td>4</td>\n",
       "      <td>2</td>\n",
       "      <td>4</td>\n",
       "      <td>2</td>\n",
       "      <td>2</td>\n",
       "      <td>2</td>\n",
       "      <td>3</td>\n",
       "      <td>2</td>\n",
       "      <td>1</td>\n",
       "      <td>Neutral or Dissatisfied</td>\n",
       "    </tr>\n",
       "  </tbody>\n",
       "</table>\n",
       "<p>5 rows × 24 columns</p>\n",
       "</div>"
      ],
      "text/plain": [
       "            ID  Gender  Age Customer Type Type of Travel         Class  \\\n",
       "129875  129876    Male   28     Returning       Personal  Economy Plus   \n",
       "129876  129877    Male   41     Returning       Personal  Economy Plus   \n",
       "129877  129878    Male   42     Returning       Personal  Economy Plus   \n",
       "129878  129879    Male   50     Returning       Personal  Economy Plus   \n",
       "129879  129880  Female   20     Returning       Personal  Economy Plus   \n",
       "\n",
       "        Flight Distance  Departure Delay  Arrival Delay  \\\n",
       "129875              447                2            3.0   \n",
       "129876              308                0            0.0   \n",
       "129877              337                6           14.0   \n",
       "129878              337               31           22.0   \n",
       "129879              337                0            0.0   \n",
       "\n",
       "        Departure and Arrival Time Convenience  ...  On-board Service  \\\n",
       "129875                                       4  ...                 5   \n",
       "129876                                       5  ...                 5   \n",
       "129877                                       5  ...                 3   \n",
       "129878                                       4  ...                 4   \n",
       "129879                                       1  ...                 4   \n",
       "\n",
       "        Seat Comfort  Leg Room Service  Cleanliness  Food and Drink  \\\n",
       "129875             1                 4            4               4   \n",
       "129876             2                 5            2               2   \n",
       "129877             3                 4            3               3   \n",
       "129878             4                 5            3               3   \n",
       "129879             2                 4            2               2   \n",
       "\n",
       "        In-flight Service  In-flight Wifi Service  In-flight Entertainment  \\\n",
       "129875                  5                       4                        4   \n",
       "129876                  4                       3                        2   \n",
       "129877                  4                       2                        3   \n",
       "129878                  4                       5                        3   \n",
       "129879                  2                       3                        2   \n",
       "\n",
       "        Baggage Handling             Satisfaction  \n",
       "129875                 4  Neutral or Dissatisfied  \n",
       "129876                 5  Neutral or Dissatisfied  \n",
       "129877                 5  Neutral or Dissatisfied  \n",
       "129878                 5                Satisfied  \n",
       "129879                 1  Neutral or Dissatisfied  \n",
       "\n",
       "[5 rows x 24 columns]"
      ]
     },
     "execution_count": 5,
     "metadata": {},
     "output_type": "execute_result"
    }
   ],
   "source": [
    "# displaying few bottom rows from the dataframe\n",
    "\n",
    "data.tail()"
   ]
  },
  {
   "cell_type": "markdown",
   "id": "ea635c87",
   "metadata": {},
   "source": [
    "From displaying few top and bottom rows of the dataframe, I realized that:\n",
    "- The column names have spaces between words while some have hyphen; for easier referencing, I would want to use an underscore in place of those spaces and hyphens.\n",
    "- The majority of the columns use a 5-point rating scale to assess passenger satisfaction, which is represented by integers ranging from 1 to 5. I'd like to convert these to the string satisfaction form of a likert scale."
   ]
  },
  {
   "cell_type": "code",
   "execution_count": 6,
   "id": "e9b1174e",
   "metadata": {
    "ExecuteTime": {
     "end_time": "2024-01-15T13:47:02.449067Z",
     "start_time": "2024-01-15T13:47:02.386418Z"
    }
   },
   "outputs": [
    {
     "name": "stdout",
     "output_type": "stream",
     "text": [
      "<class 'pandas.core.frame.DataFrame'>\n",
      "RangeIndex: 129880 entries, 0 to 129879\n",
      "Data columns (total 24 columns):\n",
      " #   Column                                  Non-Null Count   Dtype  \n",
      "---  ------                                  --------------   -----  \n",
      " 0   ID                                      129880 non-null  int64  \n",
      " 1   Gender                                  129880 non-null  object \n",
      " 2   Age                                     129880 non-null  int64  \n",
      " 3   Customer Type                           129880 non-null  object \n",
      " 4   Type of Travel                          129880 non-null  object \n",
      " 5   Class                                   129880 non-null  object \n",
      " 6   Flight Distance                         129880 non-null  int64  \n",
      " 7   Departure Delay                         129880 non-null  int64  \n",
      " 8   Arrival Delay                           129487 non-null  float64\n",
      " 9   Departure and Arrival Time Convenience  129880 non-null  int64  \n",
      " 10  Ease of Online Booking                  129880 non-null  int64  \n",
      " 11  Check-in Service                        129880 non-null  int64  \n",
      " 12  Online Boarding                         129880 non-null  int64  \n",
      " 13  Gate Location                           129880 non-null  int64  \n",
      " 14  On-board Service                        129880 non-null  int64  \n",
      " 15  Seat Comfort                            129880 non-null  int64  \n",
      " 16  Leg Room Service                        129880 non-null  int64  \n",
      " 17  Cleanliness                             129880 non-null  int64  \n",
      " 18  Food and Drink                          129880 non-null  int64  \n",
      " 19  In-flight Service                       129880 non-null  int64  \n",
      " 20  In-flight Wifi Service                  129880 non-null  int64  \n",
      " 21  In-flight Entertainment                 129880 non-null  int64  \n",
      " 22  Baggage Handling                        129880 non-null  int64  \n",
      " 23  Satisfaction                            129880 non-null  object \n",
      "dtypes: float64(1), int64(18), object(5)\n",
      "memory usage: 23.8+ MB\n"
     ]
    }
   ],
   "source": [
    "# displaying some information about the dataframe\n",
    "# expecially to be sure that the datatype are accurate\n",
    "\n",
    "data.info()"
   ]
  },
  {
   "cell_type": "markdown",
   "id": "df210339",
   "metadata": {},
   "source": [
    "The output above shows that:\n",
    "- The data comprise of satisfaction score form 129,880 passengers.\n",
    "- Except for the 'Arrival Delay' column, which has 393 null entries, all columns have no null values.\n",
    "- The 'Arrival Delay' column displays the flight arrival time in minutes. The datatype is float, but it should be integer."
   ]
  },
  {
   "cell_type": "code",
   "execution_count": 7,
   "id": "9572b3f2",
   "metadata": {
    "ExecuteTime": {
     "end_time": "2024-01-15T13:47:02.481097Z",
     "start_time": "2024-01-15T13:47:02.452065Z"
    },
    "scrolled": false
   },
   "outputs": [
    {
     "data": {
      "text/html": [
       "<div>\n",
       "<style scoped>\n",
       "    .dataframe tbody tr th:only-of-type {\n",
       "        vertical-align: middle;\n",
       "    }\n",
       "\n",
       "    .dataframe tbody tr th {\n",
       "        vertical-align: top;\n",
       "    }\n",
       "\n",
       "    .dataframe thead th {\n",
       "        text-align: right;\n",
       "    }\n",
       "</style>\n",
       "<table border=\"1\" class=\"dataframe\">\n",
       "  <thead>\n",
       "    <tr style=\"text-align: right;\">\n",
       "      <th></th>\n",
       "      <th>ID</th>\n",
       "      <th>Gender</th>\n",
       "      <th>Age</th>\n",
       "      <th>Customer Type</th>\n",
       "      <th>Type of Travel</th>\n",
       "      <th>Class</th>\n",
       "      <th>Flight Distance</th>\n",
       "      <th>Departure Delay</th>\n",
       "      <th>Arrival Delay</th>\n",
       "      <th>Departure and Arrival Time Convenience</th>\n",
       "      <th>...</th>\n",
       "      <th>On-board Service</th>\n",
       "      <th>Seat Comfort</th>\n",
       "      <th>Leg Room Service</th>\n",
       "      <th>Cleanliness</th>\n",
       "      <th>Food and Drink</th>\n",
       "      <th>In-flight Service</th>\n",
       "      <th>In-flight Wifi Service</th>\n",
       "      <th>In-flight Entertainment</th>\n",
       "      <th>Baggage Handling</th>\n",
       "      <th>Satisfaction</th>\n",
       "    </tr>\n",
       "  </thead>\n",
       "  <tbody>\n",
       "    <tr>\n",
       "      <th>246</th>\n",
       "      <td>247</td>\n",
       "      <td>Male</td>\n",
       "      <td>11</td>\n",
       "      <td>Returning</td>\n",
       "      <td>Business</td>\n",
       "      <td>Business</td>\n",
       "      <td>719</td>\n",
       "      <td>38</td>\n",
       "      <td>NaN</td>\n",
       "      <td>1</td>\n",
       "      <td>...</td>\n",
       "      <td>4</td>\n",
       "      <td>4</td>\n",
       "      <td>3</td>\n",
       "      <td>4</td>\n",
       "      <td>4</td>\n",
       "      <td>3</td>\n",
       "      <td>4</td>\n",
       "      <td>4</td>\n",
       "      <td>4</td>\n",
       "      <td>Neutral or Dissatisfied</td>\n",
       "    </tr>\n",
       "    <tr>\n",
       "      <th>883</th>\n",
       "      <td>884</td>\n",
       "      <td>Male</td>\n",
       "      <td>39</td>\n",
       "      <td>Returning</td>\n",
       "      <td>Business</td>\n",
       "      <td>Business</td>\n",
       "      <td>396</td>\n",
       "      <td>0</td>\n",
       "      <td>NaN</td>\n",
       "      <td>3</td>\n",
       "      <td>...</td>\n",
       "      <td>3</td>\n",
       "      <td>4</td>\n",
       "      <td>3</td>\n",
       "      <td>3</td>\n",
       "      <td>3</td>\n",
       "      <td>3</td>\n",
       "      <td>3</td>\n",
       "      <td>3</td>\n",
       "      <td>3</td>\n",
       "      <td>Satisfied</td>\n",
       "    </tr>\n",
       "    <tr>\n",
       "      <th>1965</th>\n",
       "      <td>1966</td>\n",
       "      <td>Male</td>\n",
       "      <td>36</td>\n",
       "      <td>Returning</td>\n",
       "      <td>Business</td>\n",
       "      <td>Economy</td>\n",
       "      <td>383</td>\n",
       "      <td>2</td>\n",
       "      <td>NaN</td>\n",
       "      <td>4</td>\n",
       "      <td>...</td>\n",
       "      <td>5</td>\n",
       "      <td>2</td>\n",
       "      <td>2</td>\n",
       "      <td>2</td>\n",
       "      <td>2</td>\n",
       "      <td>2</td>\n",
       "      <td>2</td>\n",
       "      <td>2</td>\n",
       "      <td>3</td>\n",
       "      <td>Satisfied</td>\n",
       "    </tr>\n",
       "    <tr>\n",
       "      <th>2407</th>\n",
       "      <td>2408</td>\n",
       "      <td>Female</td>\n",
       "      <td>55</td>\n",
       "      <td>Returning</td>\n",
       "      <td>Business</td>\n",
       "      <td>Business</td>\n",
       "      <td>2904</td>\n",
       "      <td>58</td>\n",
       "      <td>NaN</td>\n",
       "      <td>5</td>\n",
       "      <td>...</td>\n",
       "      <td>4</td>\n",
       "      <td>3</td>\n",
       "      <td>4</td>\n",
       "      <td>4</td>\n",
       "      <td>5</td>\n",
       "      <td>4</td>\n",
       "      <td>4</td>\n",
       "      <td>4</td>\n",
       "      <td>4</td>\n",
       "      <td>Neutral or Dissatisfied</td>\n",
       "    </tr>\n",
       "    <tr>\n",
       "      <th>2448</th>\n",
       "      <td>2449</td>\n",
       "      <td>Male</td>\n",
       "      <td>21</td>\n",
       "      <td>Returning</td>\n",
       "      <td>Personal</td>\n",
       "      <td>Economy Plus</td>\n",
       "      <td>767</td>\n",
       "      <td>5</td>\n",
       "      <td>NaN</td>\n",
       "      <td>3</td>\n",
       "      <td>...</td>\n",
       "      <td>4</td>\n",
       "      <td>1</td>\n",
       "      <td>2</td>\n",
       "      <td>1</td>\n",
       "      <td>1</td>\n",
       "      <td>2</td>\n",
       "      <td>1</td>\n",
       "      <td>1</td>\n",
       "      <td>1</td>\n",
       "      <td>Neutral or Dissatisfied</td>\n",
       "    </tr>\n",
       "    <tr>\n",
       "      <th>...</th>\n",
       "      <td>...</td>\n",
       "      <td>...</td>\n",
       "      <td>...</td>\n",
       "      <td>...</td>\n",
       "      <td>...</td>\n",
       "      <td>...</td>\n",
       "      <td>...</td>\n",
       "      <td>...</td>\n",
       "      <td>...</td>\n",
       "      <td>...</td>\n",
       "      <td>...</td>\n",
       "      <td>...</td>\n",
       "      <td>...</td>\n",
       "      <td>...</td>\n",
       "      <td>...</td>\n",
       "      <td>...</td>\n",
       "      <td>...</td>\n",
       "      <td>...</td>\n",
       "      <td>...</td>\n",
       "      <td>...</td>\n",
       "      <td>...</td>\n",
       "    </tr>\n",
       "    <tr>\n",
       "      <th>129000</th>\n",
       "      <td>129001</td>\n",
       "      <td>Male</td>\n",
       "      <td>46</td>\n",
       "      <td>First-time</td>\n",
       "      <td>Business</td>\n",
       "      <td>Business</td>\n",
       "      <td>2704</td>\n",
       "      <td>7</td>\n",
       "      <td>NaN</td>\n",
       "      <td>3</td>\n",
       "      <td>...</td>\n",
       "      <td>4</td>\n",
       "      <td>4</td>\n",
       "      <td>2</td>\n",
       "      <td>4</td>\n",
       "      <td>4</td>\n",
       "      <td>4</td>\n",
       "      <td>3</td>\n",
       "      <td>4</td>\n",
       "      <td>3</td>\n",
       "      <td>Neutral or Dissatisfied</td>\n",
       "    </tr>\n",
       "    <tr>\n",
       "      <th>129003</th>\n",
       "      <td>129004</td>\n",
       "      <td>Female</td>\n",
       "      <td>17</td>\n",
       "      <td>First-time</td>\n",
       "      <td>Business</td>\n",
       "      <td>Economy</td>\n",
       "      <td>2704</td>\n",
       "      <td>0</td>\n",
       "      <td>NaN</td>\n",
       "      <td>3</td>\n",
       "      <td>...</td>\n",
       "      <td>2</td>\n",
       "      <td>1</td>\n",
       "      <td>4</td>\n",
       "      <td>1</td>\n",
       "      <td>1</td>\n",
       "      <td>3</td>\n",
       "      <td>3</td>\n",
       "      <td>1</td>\n",
       "      <td>4</td>\n",
       "      <td>Neutral or Dissatisfied</td>\n",
       "    </tr>\n",
       "    <tr>\n",
       "      <th>129014</th>\n",
       "      <td>129015</td>\n",
       "      <td>Male</td>\n",
       "      <td>57</td>\n",
       "      <td>Returning</td>\n",
       "      <td>Business</td>\n",
       "      <td>Business</td>\n",
       "      <td>2704</td>\n",
       "      <td>0</td>\n",
       "      <td>NaN</td>\n",
       "      <td>4</td>\n",
       "      <td>...</td>\n",
       "      <td>4</td>\n",
       "      <td>4</td>\n",
       "      <td>4</td>\n",
       "      <td>5</td>\n",
       "      <td>2</td>\n",
       "      <td>4</td>\n",
       "      <td>4</td>\n",
       "      <td>4</td>\n",
       "      <td>4</td>\n",
       "      <td>Satisfied</td>\n",
       "    </tr>\n",
       "    <tr>\n",
       "      <th>129015</th>\n",
       "      <td>129016</td>\n",
       "      <td>Female</td>\n",
       "      <td>22</td>\n",
       "      <td>Returning</td>\n",
       "      <td>Business</td>\n",
       "      <td>Business</td>\n",
       "      <td>2611</td>\n",
       "      <td>8</td>\n",
       "      <td>NaN</td>\n",
       "      <td>3</td>\n",
       "      <td>...</td>\n",
       "      <td>4</td>\n",
       "      <td>4</td>\n",
       "      <td>3</td>\n",
       "      <td>4</td>\n",
       "      <td>4</td>\n",
       "      <td>4</td>\n",
       "      <td>3</td>\n",
       "      <td>4</td>\n",
       "      <td>3</td>\n",
       "      <td>Satisfied</td>\n",
       "    </tr>\n",
       "    <tr>\n",
       "      <th>129488</th>\n",
       "      <td>129489</td>\n",
       "      <td>Male</td>\n",
       "      <td>23</td>\n",
       "      <td>Returning</td>\n",
       "      <td>Personal</td>\n",
       "      <td>Economy</td>\n",
       "      <td>2704</td>\n",
       "      <td>0</td>\n",
       "      <td>NaN</td>\n",
       "      <td>1</td>\n",
       "      <td>...</td>\n",
       "      <td>1</td>\n",
       "      <td>2</td>\n",
       "      <td>3</td>\n",
       "      <td>2</td>\n",
       "      <td>2</td>\n",
       "      <td>4</td>\n",
       "      <td>1</td>\n",
       "      <td>2</td>\n",
       "      <td>4</td>\n",
       "      <td>Neutral or Dissatisfied</td>\n",
       "    </tr>\n",
       "  </tbody>\n",
       "</table>\n",
       "<p>393 rows × 24 columns</p>\n",
       "</div>"
      ],
      "text/plain": [
       "            ID  Gender  Age Customer Type Type of Travel         Class  \\\n",
       "246        247    Male   11     Returning       Business      Business   \n",
       "883        884    Male   39     Returning       Business      Business   \n",
       "1965      1966    Male   36     Returning       Business       Economy   \n",
       "2407      2408  Female   55     Returning       Business      Business   \n",
       "2448      2449    Male   21     Returning       Personal  Economy Plus   \n",
       "...        ...     ...  ...           ...            ...           ...   \n",
       "129000  129001    Male   46    First-time       Business      Business   \n",
       "129003  129004  Female   17    First-time       Business       Economy   \n",
       "129014  129015    Male   57     Returning       Business      Business   \n",
       "129015  129016  Female   22     Returning       Business      Business   \n",
       "129488  129489    Male   23     Returning       Personal       Economy   \n",
       "\n",
       "        Flight Distance  Departure Delay  Arrival Delay  \\\n",
       "246                 719               38            NaN   \n",
       "883                 396                0            NaN   \n",
       "1965                383                2            NaN   \n",
       "2407               2904               58            NaN   \n",
       "2448                767                5            NaN   \n",
       "...                 ...              ...            ...   \n",
       "129000             2704                7            NaN   \n",
       "129003             2704                0            NaN   \n",
       "129014             2704                0            NaN   \n",
       "129015             2611                8            NaN   \n",
       "129488             2704                0            NaN   \n",
       "\n",
       "        Departure and Arrival Time Convenience  ...  On-board Service  \\\n",
       "246                                          1  ...                 4   \n",
       "883                                          3  ...                 3   \n",
       "1965                                         4  ...                 5   \n",
       "2407                                         5  ...                 4   \n",
       "2448                                         3  ...                 4   \n",
       "...                                        ...  ...               ...   \n",
       "129000                                       3  ...                 4   \n",
       "129003                                       3  ...                 2   \n",
       "129014                                       4  ...                 4   \n",
       "129015                                       3  ...                 4   \n",
       "129488                                       1  ...                 1   \n",
       "\n",
       "        Seat Comfort  Leg Room Service  Cleanliness  Food and Drink  \\\n",
       "246                4                 3            4               4   \n",
       "883                4                 3            3               3   \n",
       "1965               2                 2            2               2   \n",
       "2407               3                 4            4               5   \n",
       "2448               1                 2            1               1   \n",
       "...              ...               ...          ...             ...   \n",
       "129000             4                 2            4               4   \n",
       "129003             1                 4            1               1   \n",
       "129014             4                 4            5               2   \n",
       "129015             4                 3            4               4   \n",
       "129488             2                 3            2               2   \n",
       "\n",
       "        In-flight Service  In-flight Wifi Service  In-flight Entertainment  \\\n",
       "246                     3                       4                        4   \n",
       "883                     3                       3                        3   \n",
       "1965                    2                       2                        2   \n",
       "2407                    4                       4                        4   \n",
       "2448                    2                       1                        1   \n",
       "...                   ...                     ...                      ...   \n",
       "129000                  4                       3                        4   \n",
       "129003                  3                       3                        1   \n",
       "129014                  4                       4                        4   \n",
       "129015                  4                       3                        4   \n",
       "129488                  4                       1                        2   \n",
       "\n",
       "        Baggage Handling             Satisfaction  \n",
       "246                    4  Neutral or Dissatisfied  \n",
       "883                    3                Satisfied  \n",
       "1965                   3                Satisfied  \n",
       "2407                   4  Neutral or Dissatisfied  \n",
       "2448                   1  Neutral or Dissatisfied  \n",
       "...                  ...                      ...  \n",
       "129000                 3  Neutral or Dissatisfied  \n",
       "129003                 4  Neutral or Dissatisfied  \n",
       "129014                 4                Satisfied  \n",
       "129015                 3                Satisfied  \n",
       "129488                 4  Neutral or Dissatisfied  \n",
       "\n",
       "[393 rows x 24 columns]"
      ]
     },
     "execution_count": 7,
     "metadata": {},
     "output_type": "execute_result"
    }
   ],
   "source": [
    "data[data['Arrival Delay'].isnull()]"
   ]
  },
  {
   "cell_type": "markdown",
   "id": "4c587202",
   "metadata": {},
   "source": [
    "The output above displays 393 rows with null values in the 'Arrival Delay' column. Null entries in the 'Arrival Delay' column will be replaced with 0 to avoid losing any data."
   ]
  },
  {
   "cell_type": "code",
   "execution_count": 8,
   "id": "cf15d58e",
   "metadata": {
    "ExecuteTime": {
     "end_time": "2024-01-15T13:47:02.619928Z",
     "start_time": "2024-01-15T13:47:02.485091Z"
    },
    "scrolled": true
   },
   "outputs": [
    {
     "data": {
      "text/html": [
       "<div>\n",
       "<style scoped>\n",
       "    .dataframe tbody tr th:only-of-type {\n",
       "        vertical-align: middle;\n",
       "    }\n",
       "\n",
       "    .dataframe tbody tr th {\n",
       "        vertical-align: top;\n",
       "    }\n",
       "\n",
       "    .dataframe thead th {\n",
       "        text-align: right;\n",
       "    }\n",
       "</style>\n",
       "<table border=\"1\" class=\"dataframe\">\n",
       "  <thead>\n",
       "    <tr style=\"text-align: right;\">\n",
       "      <th></th>\n",
       "      <th>ID</th>\n",
       "      <th>Age</th>\n",
       "      <th>Flight Distance</th>\n",
       "      <th>Departure Delay</th>\n",
       "      <th>Arrival Delay</th>\n",
       "      <th>Departure and Arrival Time Convenience</th>\n",
       "      <th>Ease of Online Booking</th>\n",
       "      <th>Check-in Service</th>\n",
       "      <th>Online Boarding</th>\n",
       "      <th>Gate Location</th>\n",
       "      <th>On-board Service</th>\n",
       "      <th>Seat Comfort</th>\n",
       "      <th>Leg Room Service</th>\n",
       "      <th>Cleanliness</th>\n",
       "      <th>Food and Drink</th>\n",
       "      <th>In-flight Service</th>\n",
       "      <th>In-flight Wifi Service</th>\n",
       "      <th>In-flight Entertainment</th>\n",
       "      <th>Baggage Handling</th>\n",
       "    </tr>\n",
       "  </thead>\n",
       "  <tbody>\n",
       "    <tr>\n",
       "      <th>count</th>\n",
       "      <td>129880.000000</td>\n",
       "      <td>129880.000000</td>\n",
       "      <td>129880.000000</td>\n",
       "      <td>129880.000000</td>\n",
       "      <td>129487.000000</td>\n",
       "      <td>129880.000000</td>\n",
       "      <td>129880.000000</td>\n",
       "      <td>129880.000000</td>\n",
       "      <td>129880.000000</td>\n",
       "      <td>129880.000000</td>\n",
       "      <td>129880.000000</td>\n",
       "      <td>129880.000000</td>\n",
       "      <td>129880.000000</td>\n",
       "      <td>129880.000000</td>\n",
       "      <td>129880.000000</td>\n",
       "      <td>129880.000000</td>\n",
       "      <td>129880.000000</td>\n",
       "      <td>129880.000000</td>\n",
       "      <td>129880.000000</td>\n",
       "    </tr>\n",
       "    <tr>\n",
       "      <th>mean</th>\n",
       "      <td>64940.500000</td>\n",
       "      <td>39.427957</td>\n",
       "      <td>1190.316392</td>\n",
       "      <td>14.713713</td>\n",
       "      <td>15.091129</td>\n",
       "      <td>3.057599</td>\n",
       "      <td>2.756876</td>\n",
       "      <td>3.306267</td>\n",
       "      <td>3.252633</td>\n",
       "      <td>2.976925</td>\n",
       "      <td>3.383023</td>\n",
       "      <td>3.441361</td>\n",
       "      <td>3.350878</td>\n",
       "      <td>3.286326</td>\n",
       "      <td>3.204774</td>\n",
       "      <td>3.642193</td>\n",
       "      <td>2.728696</td>\n",
       "      <td>3.358077</td>\n",
       "      <td>3.632114</td>\n",
       "    </tr>\n",
       "    <tr>\n",
       "      <th>std</th>\n",
       "      <td>37493.270818</td>\n",
       "      <td>15.119360</td>\n",
       "      <td>997.452477</td>\n",
       "      <td>38.071126</td>\n",
       "      <td>38.465650</td>\n",
       "      <td>1.526741</td>\n",
       "      <td>1.401740</td>\n",
       "      <td>1.266185</td>\n",
       "      <td>1.350719</td>\n",
       "      <td>1.278520</td>\n",
       "      <td>1.287099</td>\n",
       "      <td>1.319289</td>\n",
       "      <td>1.316252</td>\n",
       "      <td>1.313682</td>\n",
       "      <td>1.329933</td>\n",
       "      <td>1.176669</td>\n",
       "      <td>1.329340</td>\n",
       "      <td>1.334049</td>\n",
       "      <td>1.180025</td>\n",
       "    </tr>\n",
       "    <tr>\n",
       "      <th>min</th>\n",
       "      <td>1.000000</td>\n",
       "      <td>7.000000</td>\n",
       "      <td>31.000000</td>\n",
       "      <td>0.000000</td>\n",
       "      <td>0.000000</td>\n",
       "      <td>0.000000</td>\n",
       "      <td>0.000000</td>\n",
       "      <td>0.000000</td>\n",
       "      <td>0.000000</td>\n",
       "      <td>0.000000</td>\n",
       "      <td>0.000000</td>\n",
       "      <td>0.000000</td>\n",
       "      <td>0.000000</td>\n",
       "      <td>0.000000</td>\n",
       "      <td>0.000000</td>\n",
       "      <td>0.000000</td>\n",
       "      <td>0.000000</td>\n",
       "      <td>0.000000</td>\n",
       "      <td>1.000000</td>\n",
       "    </tr>\n",
       "    <tr>\n",
       "      <th>25%</th>\n",
       "      <td>32470.750000</td>\n",
       "      <td>27.000000</td>\n",
       "      <td>414.000000</td>\n",
       "      <td>0.000000</td>\n",
       "      <td>0.000000</td>\n",
       "      <td>2.000000</td>\n",
       "      <td>2.000000</td>\n",
       "      <td>3.000000</td>\n",
       "      <td>2.000000</td>\n",
       "      <td>2.000000</td>\n",
       "      <td>2.000000</td>\n",
       "      <td>2.000000</td>\n",
       "      <td>2.000000</td>\n",
       "      <td>2.000000</td>\n",
       "      <td>2.000000</td>\n",
       "      <td>3.000000</td>\n",
       "      <td>2.000000</td>\n",
       "      <td>2.000000</td>\n",
       "      <td>3.000000</td>\n",
       "    </tr>\n",
       "    <tr>\n",
       "      <th>50%</th>\n",
       "      <td>64940.500000</td>\n",
       "      <td>40.000000</td>\n",
       "      <td>844.000000</td>\n",
       "      <td>0.000000</td>\n",
       "      <td>0.000000</td>\n",
       "      <td>3.000000</td>\n",
       "      <td>3.000000</td>\n",
       "      <td>3.000000</td>\n",
       "      <td>3.000000</td>\n",
       "      <td>3.000000</td>\n",
       "      <td>4.000000</td>\n",
       "      <td>4.000000</td>\n",
       "      <td>4.000000</td>\n",
       "      <td>3.000000</td>\n",
       "      <td>3.000000</td>\n",
       "      <td>4.000000</td>\n",
       "      <td>3.000000</td>\n",
       "      <td>4.000000</td>\n",
       "      <td>4.000000</td>\n",
       "    </tr>\n",
       "    <tr>\n",
       "      <th>75%</th>\n",
       "      <td>97410.250000</td>\n",
       "      <td>51.000000</td>\n",
       "      <td>1744.000000</td>\n",
       "      <td>12.000000</td>\n",
       "      <td>13.000000</td>\n",
       "      <td>4.000000</td>\n",
       "      <td>4.000000</td>\n",
       "      <td>4.000000</td>\n",
       "      <td>4.000000</td>\n",
       "      <td>4.000000</td>\n",
       "      <td>4.000000</td>\n",
       "      <td>5.000000</td>\n",
       "      <td>4.000000</td>\n",
       "      <td>4.000000</td>\n",
       "      <td>4.000000</td>\n",
       "      <td>5.000000</td>\n",
       "      <td>4.000000</td>\n",
       "      <td>4.000000</td>\n",
       "      <td>5.000000</td>\n",
       "    </tr>\n",
       "    <tr>\n",
       "      <th>max</th>\n",
       "      <td>129880.000000</td>\n",
       "      <td>85.000000</td>\n",
       "      <td>4983.000000</td>\n",
       "      <td>1592.000000</td>\n",
       "      <td>1584.000000</td>\n",
       "      <td>5.000000</td>\n",
       "      <td>5.000000</td>\n",
       "      <td>5.000000</td>\n",
       "      <td>5.000000</td>\n",
       "      <td>5.000000</td>\n",
       "      <td>5.000000</td>\n",
       "      <td>5.000000</td>\n",
       "      <td>5.000000</td>\n",
       "      <td>5.000000</td>\n",
       "      <td>5.000000</td>\n",
       "      <td>5.000000</td>\n",
       "      <td>5.000000</td>\n",
       "      <td>5.000000</td>\n",
       "      <td>5.000000</td>\n",
       "    </tr>\n",
       "  </tbody>\n",
       "</table>\n",
       "</div>"
      ],
      "text/plain": [
       "                  ID            Age  Flight Distance  Departure Delay  \\\n",
       "count  129880.000000  129880.000000    129880.000000    129880.000000   \n",
       "mean    64940.500000      39.427957      1190.316392        14.713713   \n",
       "std     37493.270818      15.119360       997.452477        38.071126   \n",
       "min         1.000000       7.000000        31.000000         0.000000   \n",
       "25%     32470.750000      27.000000       414.000000         0.000000   \n",
       "50%     64940.500000      40.000000       844.000000         0.000000   \n",
       "75%     97410.250000      51.000000      1744.000000        12.000000   \n",
       "max    129880.000000      85.000000      4983.000000      1592.000000   \n",
       "\n",
       "       Arrival Delay  Departure and Arrival Time Convenience  \\\n",
       "count  129487.000000                           129880.000000   \n",
       "mean       15.091129                                3.057599   \n",
       "std        38.465650                                1.526741   \n",
       "min         0.000000                                0.000000   \n",
       "25%         0.000000                                2.000000   \n",
       "50%         0.000000                                3.000000   \n",
       "75%        13.000000                                4.000000   \n",
       "max      1584.000000                                5.000000   \n",
       "\n",
       "       Ease of Online Booking  Check-in Service  Online Boarding  \\\n",
       "count           129880.000000     129880.000000    129880.000000   \n",
       "mean                 2.756876          3.306267         3.252633   \n",
       "std                  1.401740          1.266185         1.350719   \n",
       "min                  0.000000          0.000000         0.000000   \n",
       "25%                  2.000000          3.000000         2.000000   \n",
       "50%                  3.000000          3.000000         3.000000   \n",
       "75%                  4.000000          4.000000         4.000000   \n",
       "max                  5.000000          5.000000         5.000000   \n",
       "\n",
       "       Gate Location  On-board Service   Seat Comfort  Leg Room Service  \\\n",
       "count  129880.000000     129880.000000  129880.000000     129880.000000   \n",
       "mean        2.976925          3.383023       3.441361          3.350878   \n",
       "std         1.278520          1.287099       1.319289          1.316252   \n",
       "min         0.000000          0.000000       0.000000          0.000000   \n",
       "25%         2.000000          2.000000       2.000000          2.000000   \n",
       "50%         3.000000          4.000000       4.000000          4.000000   \n",
       "75%         4.000000          4.000000       5.000000          4.000000   \n",
       "max         5.000000          5.000000       5.000000          5.000000   \n",
       "\n",
       "         Cleanliness  Food and Drink  In-flight Service  \\\n",
       "count  129880.000000   129880.000000      129880.000000   \n",
       "mean        3.286326        3.204774           3.642193   \n",
       "std         1.313682        1.329933           1.176669   \n",
       "min         0.000000        0.000000           0.000000   \n",
       "25%         2.000000        2.000000           3.000000   \n",
       "50%         3.000000        3.000000           4.000000   \n",
       "75%         4.000000        4.000000           5.000000   \n",
       "max         5.000000        5.000000           5.000000   \n",
       "\n",
       "       In-flight Wifi Service  In-flight Entertainment  Baggage Handling  \n",
       "count           129880.000000            129880.000000     129880.000000  \n",
       "mean                 2.728696                 3.358077          3.632114  \n",
       "std                  1.329340                 1.334049          1.180025  \n",
       "min                  0.000000                 0.000000          1.000000  \n",
       "25%                  2.000000                 2.000000          3.000000  \n",
       "50%                  3.000000                 4.000000          4.000000  \n",
       "75%                  4.000000                 4.000000          5.000000  \n",
       "max                  5.000000                 5.000000          5.000000  "
      ]
     },
     "execution_count": 8,
     "metadata": {},
     "output_type": "execute_result"
    }
   ],
   "source": [
    "# Displaying summary statistics about the data\n",
    "\n",
    "data.describe()"
   ]
  },
  {
   "cell_type": "code",
   "execution_count": 9,
   "id": "a93d3e0a",
   "metadata": {
    "ExecuteTime": {
     "end_time": "2024-01-15T13:47:02.853798Z",
     "start_time": "2024-01-15T13:47:02.622924Z"
    }
   },
   "outputs": [
    {
     "data": {
      "image/png": "[encoded data removed]",
      "text/plain": [
       "<Figure size 640x480 with 1 Axes>"
      ]
     },
     "metadata": {},
     "output_type": "display_data"
    }
   ],
   "source": [
    "# Visually checking for outliers in the Passanger's age\n",
    "\n",
    "sns.boxplot(y=data.Age);"
   ]
  },
  {
   "cell_type": "markdown",
   "id": "88764322",
   "metadata": {},
   "source": [
    "Th summary statistic above reveals that:\n",
    "- The passengers' minimum and maximum ages are 7 and 85 years, respectively. 25% of the passengers are under the age of 27, half of the passengers are under the age of 40, 75% are under the age of 51, and 25% are above the age of 51. And the box plot above emphasizes the fact that there are no outliers.\n",
    "- The shortest and longest flying distances are 31 and 4,983 miles, respectively. Half of the flying distance is less than 844 miles, and the other half is greater.\n",
    "- The minimum departure and arrival delay times are both 0 minutes, while the highest departure and arrival delay times are around 27 and 26 hours, respectively.\n",
    "- 75% of departure and arrival delays are less than 12 minutes and 13 minutes, respectively."
   ]
  },
  {
   "cell_type": "markdown",
   "id": "f51b47f5",
   "metadata": {},
   "source": [
    "<a id='clean'></a>\n",
    "## Data Cleaning\n",
    "> In this stage, the data will be cleaned up based on the observations made in the inspection section above, in order to prepare it for analysis.\n",
    "\n",
    "The following are the data cleaning acivities to be carried out:\n",
    "1. Convert the column names to lowercase.\n",
    "2. Use an underscore in place of spaces and hyphens between words.\n",
    "3. Change the rating scale columns from 1 to 5 to the string satisfaction form of a likert scale.\n",
    "4. In the 'Arrival Delay' column, replace all null entries with 0.\n",
    "5. Change the 'Arrival Delay' column's datatype from float to integer.\n",
    "6. Add a new column for age groupings ('0 - 20', '21 - 40', '41 - 60', and 'above 60')."
   ]
  },
  {
   "cell_type": "code",
   "execution_count": 10,
   "id": "331e9614",
   "metadata": {
    "ExecuteTime": {
     "end_time": "2024-01-15T13:47:02.865347Z",
     "start_time": "2024-01-15T13:47:02.860782Z"
    }
   },
   "outputs": [],
   "source": [
    "# Convert column name to lowercase\n",
    "\n",
    "data.columns = data.columns.str.lower()"
   ]
  },
  {
   "cell_type": "code",
   "execution_count": 11,
   "id": "5e5d5cfa",
   "metadata": {
    "ExecuteTime": {
     "end_time": "2024-01-15T13:47:02.874564Z",
     "start_time": "2024-01-15T13:47:02.868344Z"
    }
   },
   "outputs": [],
   "source": [
    "# replace spaces in columns name with underscore\n",
    "\n",
    "data.columns = data.columns.str.replace(' ','_')"
   ]
  },
  {
   "cell_type": "code",
   "execution_count": 12,
   "id": "14f9def4",
   "metadata": {
    "ExecuteTime": {
     "end_time": "2024-01-15T13:47:02.884731Z",
     "start_time": "2024-01-15T13:47:02.877560Z"
    }
   },
   "outputs": [],
   "source": [
    "# replace hyphens in columns name with underscore\n",
    "\n",
    "data.columns = data.columns.str.replace('-','_')"
   ]
  },
  {
   "cell_type": "code",
   "execution_count": 13,
   "id": "0ea7b4cc",
   "metadata": {
    "ExecuteTime": {
     "end_time": "2024-01-15T13:47:02.901677Z",
     "start_time": "2024-01-15T13:47:02.889731Z"
    }
   },
   "outputs": [
    {
     "data": {
      "text/plain": [
       "Index(['id', 'gender', 'age', 'customer_type', 'type_of_travel', 'class',\n",
       "       'flight_distance', 'departure_delay', 'arrival_delay',\n",
       "       'departure_and_arrival_time_convenience', 'ease_of_online_booking',\n",
       "       'check_in_service', 'online_boarding', 'gate_location',\n",
       "       'on_board_service', 'seat_comfort', 'leg_room_service', 'cleanliness',\n",
       "       'food_and_drink', 'in_flight_service', 'in_flight_wifi_service',\n",
       "       'in_flight_entertainment', 'baggage_handling', 'satisfaction'],\n",
       "      dtype='object')"
      ]
     },
     "execution_count": 13,
     "metadata": {},
     "output_type": "execute_result"
    }
   ],
   "source": [
    "data.columns"
   ]
  },
  {
   "cell_type": "code",
   "execution_count": 14,
   "id": "b06f2330",
   "metadata": {
    "ExecuteTime": {
     "end_time": "2024-01-15T13:47:03.239882Z",
     "start_time": "2024-01-15T13:47:02.905663Z"
    }
   },
   "outputs": [],
   "source": [
    "# ceating a list of likert scale columns\n",
    "cols = ['departure_and_arrival_time_convenience', 'ease_of_online_booking', \n",
    "        'check_in_service', 'online_boarding', 'gate_location', 'on_board_service',\n",
    "        'seat_comfort', 'leg_room_service', 'cleanliness', 'food_and_drink', \n",
    "        'in_flight_service', 'in_flight_wifi_service', 'in_flight_entertainment', \n",
    "        'baggage_handling'\n",
    "       ]\n",
    "\n",
    "# Changing the rating scale columns from 1 to 5\n",
    "# to the string satisfaction form of a likert scale.\n",
    "\n",
    "data[cols] = data[cols].replace({ 0 : 'Not Applicable', \n",
    "                                  1 : 'Very Dissatisfied', \n",
    "                                  2 : 'Dissatisfied', \n",
    "                                  3 : 'Unsure', \n",
    "                                  4 : 'Satisfied', \n",
    "                                  5 : 'Very Satisfied'\n",
    "                                })"
   ]
  },
  {
   "cell_type": "code",
   "execution_count": 15,
   "id": "9e5375d1",
   "metadata": {
    "ExecuteTime": {
     "end_time": "2024-01-15T13:47:03.247564Z",
     "start_time": "2024-01-15T13:47:03.241879Z"
    }
   },
   "outputs": [],
   "source": [
    "# replacing all null entries with 0 in 'Arrival Delay' column\n",
    "\n",
    "data.arrival_delay.fillna(0,inplace=True)"
   ]
  },
  {
   "cell_type": "code",
   "execution_count": 16,
   "id": "5352b9de",
   "metadata": {
    "ExecuteTime": {
     "end_time": "2024-01-15T13:47:03.266667Z",
     "start_time": "2024-01-15T13:47:03.252555Z"
    }
   },
   "outputs": [],
   "source": [
    "# Changing the 'Arrival Delay' column's datatype from float to integer.\n",
    "\n",
    "data['arrival_delay'] = data['arrival_delay'].astype('int64')"
   ]
  },
  {
   "cell_type": "code",
   "execution_count": 17,
   "id": "d819ad49",
   "metadata": {
    "ExecuteTime": {
     "end_time": "2024-01-15T13:47:03.283774Z",
     "start_time": "2024-01-15T13:47:03.269663Z"
    }
   },
   "outputs": [],
   "source": [
    "# creating a bin for the age grouping\n",
    "bins = [0, 21, 41, 61, 86]\n",
    "\n",
    "# creating the label that will match each age grouping bin\n",
    "labels = ['0 - 20','21 - 40','41 - 60','above 60']\n",
    "\n",
    "\n",
    "data['age_group'] = pd.cut(data['age'], bins=bins, labels=labels, right=False)"
   ]
  },
  {
   "cell_type": "markdown",
   "id": "bca7163d",
   "metadata": {},
   "source": [
    "<a id='check'></a>\n",
    "## Sanity Check After Data Cleaning\n",
    "> In this section, I'll double-check the structure before moving on to analysis. To determine whether or not the necessary adjustment has been made."
   ]
  },
  {
   "cell_type": "code",
   "execution_count": 18,
   "id": "2f4a8bea",
   "metadata": {
    "ExecuteTime": {
     "end_time": "2024-01-15T13:47:03.311641Z",
     "start_time": "2024-01-15T13:47:03.286769Z"
    }
   },
   "outputs": [
    {
     "data": {
      "text/html": [
       "<div>\n",
       "<style scoped>\n",
       "    .dataframe tbody tr th:only-of-type {\n",
       "        vertical-align: middle;\n",
       "    }\n",
       "\n",
       "    .dataframe tbody tr th {\n",
       "        vertical-align: top;\n",
       "    }\n",
       "\n",
       "    .dataframe thead th {\n",
       "        text-align: right;\n",
       "    }\n",
       "</style>\n",
       "<table border=\"1\" class=\"dataframe\">\n",
       "  <thead>\n",
       "    <tr style=\"text-align: right;\">\n",
       "      <th></th>\n",
       "      <th>id</th>\n",
       "      <th>gender</th>\n",
       "      <th>age</th>\n",
       "      <th>customer_type</th>\n",
       "      <th>type_of_travel</th>\n",
       "      <th>class</th>\n",
       "      <th>flight_distance</th>\n",
       "      <th>departure_delay</th>\n",
       "      <th>arrival_delay</th>\n",
       "      <th>departure_and_arrival_time_convenience</th>\n",
       "      <th>...</th>\n",
       "      <th>seat_comfort</th>\n",
       "      <th>leg_room_service</th>\n",
       "      <th>cleanliness</th>\n",
       "      <th>food_and_drink</th>\n",
       "      <th>in_flight_service</th>\n",
       "      <th>in_flight_wifi_service</th>\n",
       "      <th>in_flight_entertainment</th>\n",
       "      <th>baggage_handling</th>\n",
       "      <th>satisfaction</th>\n",
       "      <th>age_group</th>\n",
       "    </tr>\n",
       "  </thead>\n",
       "  <tbody>\n",
       "    <tr>\n",
       "      <th>0</th>\n",
       "      <td>1</td>\n",
       "      <td>Male</td>\n",
       "      <td>48</td>\n",
       "      <td>First-time</td>\n",
       "      <td>Business</td>\n",
       "      <td>Business</td>\n",
       "      <td>821</td>\n",
       "      <td>2</td>\n",
       "      <td>5</td>\n",
       "      <td>Unsure</td>\n",
       "      <td>...</td>\n",
       "      <td>Very Satisfied</td>\n",
       "      <td>Dissatisfied</td>\n",
       "      <td>Very Satisfied</td>\n",
       "      <td>Very Satisfied</td>\n",
       "      <td>Very Satisfied</td>\n",
       "      <td>Unsure</td>\n",
       "      <td>Very Satisfied</td>\n",
       "      <td>Very Satisfied</td>\n",
       "      <td>Neutral or Dissatisfied</td>\n",
       "      <td>41 - 60</td>\n",
       "    </tr>\n",
       "    <tr>\n",
       "      <th>1</th>\n",
       "      <td>2</td>\n",
       "      <td>Female</td>\n",
       "      <td>35</td>\n",
       "      <td>Returning</td>\n",
       "      <td>Business</td>\n",
       "      <td>Business</td>\n",
       "      <td>821</td>\n",
       "      <td>26</td>\n",
       "      <td>39</td>\n",
       "      <td>Dissatisfied</td>\n",
       "      <td>...</td>\n",
       "      <td>Satisfied</td>\n",
       "      <td>Very Satisfied</td>\n",
       "      <td>Very Satisfied</td>\n",
       "      <td>Unsure</td>\n",
       "      <td>Very Satisfied</td>\n",
       "      <td>Dissatisfied</td>\n",
       "      <td>Very Satisfied</td>\n",
       "      <td>Very Satisfied</td>\n",
       "      <td>Satisfied</td>\n",
       "      <td>21 - 40</td>\n",
       "    </tr>\n",
       "    <tr>\n",
       "      <th>2</th>\n",
       "      <td>3</td>\n",
       "      <td>Male</td>\n",
       "      <td>41</td>\n",
       "      <td>Returning</td>\n",
       "      <td>Business</td>\n",
       "      <td>Business</td>\n",
       "      <td>853</td>\n",
       "      <td>0</td>\n",
       "      <td>0</td>\n",
       "      <td>Satisfied</td>\n",
       "      <td>...</td>\n",
       "      <td>Very Satisfied</td>\n",
       "      <td>Unsure</td>\n",
       "      <td>Very Satisfied</td>\n",
       "      <td>Very Satisfied</td>\n",
       "      <td>Unsure</td>\n",
       "      <td>Satisfied</td>\n",
       "      <td>Unsure</td>\n",
       "      <td>Unsure</td>\n",
       "      <td>Satisfied</td>\n",
       "      <td>41 - 60</td>\n",
       "    </tr>\n",
       "    <tr>\n",
       "      <th>3</th>\n",
       "      <td>4</td>\n",
       "      <td>Male</td>\n",
       "      <td>50</td>\n",
       "      <td>Returning</td>\n",
       "      <td>Business</td>\n",
       "      <td>Business</td>\n",
       "      <td>1905</td>\n",
       "      <td>0</td>\n",
       "      <td>0</td>\n",
       "      <td>Dissatisfied</td>\n",
       "      <td>...</td>\n",
       "      <td>Very Satisfied</td>\n",
       "      <td>Very Satisfied</td>\n",
       "      <td>Satisfied</td>\n",
       "      <td>Satisfied</td>\n",
       "      <td>Very Satisfied</td>\n",
       "      <td>Dissatisfied</td>\n",
       "      <td>Very Satisfied</td>\n",
       "      <td>Very Satisfied</td>\n",
       "      <td>Satisfied</td>\n",
       "      <td>41 - 60</td>\n",
       "    </tr>\n",
       "    <tr>\n",
       "      <th>4</th>\n",
       "      <td>5</td>\n",
       "      <td>Female</td>\n",
       "      <td>49</td>\n",
       "      <td>Returning</td>\n",
       "      <td>Business</td>\n",
       "      <td>Business</td>\n",
       "      <td>3470</td>\n",
       "      <td>0</td>\n",
       "      <td>1</td>\n",
       "      <td>Unsure</td>\n",
       "      <td>...</td>\n",
       "      <td>Satisfied</td>\n",
       "      <td>Satisfied</td>\n",
       "      <td>Very Satisfied</td>\n",
       "      <td>Satisfied</td>\n",
       "      <td>Unsure</td>\n",
       "      <td>Unsure</td>\n",
       "      <td>Unsure</td>\n",
       "      <td>Unsure</td>\n",
       "      <td>Satisfied</td>\n",
       "      <td>41 - 60</td>\n",
       "    </tr>\n",
       "  </tbody>\n",
       "</table>\n",
       "<p>5 rows × 25 columns</p>\n",
       "</div>"
      ],
      "text/plain": [
       "   id  gender  age customer_type type_of_travel     class  flight_distance  \\\n",
       "0   1    Male   48    First-time       Business  Business              821   \n",
       "1   2  Female   35     Returning       Business  Business              821   \n",
       "2   3    Male   41     Returning       Business  Business              853   \n",
       "3   4    Male   50     Returning       Business  Business             1905   \n",
       "4   5  Female   49     Returning       Business  Business             3470   \n",
       "\n",
       "   departure_delay  arrival_delay departure_and_arrival_time_convenience  ...  \\\n",
       "0                2              5                                 Unsure  ...   \n",
       "1               26             39                           Dissatisfied  ...   \n",
       "2                0              0                              Satisfied  ...   \n",
       "3                0              0                           Dissatisfied  ...   \n",
       "4                0              1                                 Unsure  ...   \n",
       "\n",
       "     seat_comfort leg_room_service     cleanliness  food_and_drink  \\\n",
       "0  Very Satisfied     Dissatisfied  Very Satisfied  Very Satisfied   \n",
       "1       Satisfied   Very Satisfied  Very Satisfied          Unsure   \n",
       "2  Very Satisfied           Unsure  Very Satisfied  Very Satisfied   \n",
       "3  Very Satisfied   Very Satisfied       Satisfied       Satisfied   \n",
       "4       Satisfied        Satisfied  Very Satisfied       Satisfied   \n",
       "\n",
       "  in_flight_service in_flight_wifi_service in_flight_entertainment  \\\n",
       "0    Very Satisfied                 Unsure          Very Satisfied   \n",
       "1    Very Satisfied           Dissatisfied          Very Satisfied   \n",
       "2            Unsure              Satisfied                  Unsure   \n",
       "3    Very Satisfied           Dissatisfied          Very Satisfied   \n",
       "4            Unsure                 Unsure                  Unsure   \n",
       "\n",
       "  baggage_handling             satisfaction age_group  \n",
       "0   Very Satisfied  Neutral or Dissatisfied   41 - 60  \n",
       "1   Very Satisfied                Satisfied   21 - 40  \n",
       "2           Unsure                Satisfied   41 - 60  \n",
       "3   Very Satisfied                Satisfied   41 - 60  \n",
       "4           Unsure                Satisfied   41 - 60  \n",
       "\n",
       "[5 rows x 25 columns]"
      ]
     },
     "execution_count": 18,
     "metadata": {},
     "output_type": "execute_result"
    }
   ],
   "source": [
    "# displaying few top rows from the dataframe\n",
    "# to validate that the column names and\n",
    "# rating scale columns have been cleaned\n",
    "\n",
    "data.head()"
   ]
  },
  {
   "cell_type": "code",
   "execution_count": 19,
   "id": "316effe5",
   "metadata": {
    "ExecuteTime": {
     "end_time": "2024-01-15T13:47:03.429303Z",
     "start_time": "2024-01-15T13:47:03.314631Z"
    },
    "scrolled": false
   },
   "outputs": [
    {
     "name": "stdout",
     "output_type": "stream",
     "text": [
      "<class 'pandas.core.frame.DataFrame'>\n",
      "RangeIndex: 129880 entries, 0 to 129879\n",
      "Data columns (total 25 columns):\n",
      " #   Column                                  Non-Null Count   Dtype   \n",
      "---  ------                                  --------------   -----   \n",
      " 0   id                                      129880 non-null  int64   \n",
      " 1   gender                                  129880 non-null  object  \n",
      " 2   age                                     129880 non-null  int64   \n",
      " 3   customer_type                           129880 non-null  object  \n",
      " 4   type_of_travel                          129880 non-null  object  \n",
      " 5   class                                   129880 non-null  object  \n",
      " 6   flight_distance                         129880 non-null  int64   \n",
      " 7   departure_delay                         129880 non-null  int64   \n",
      " 8   arrival_delay                           129880 non-null  int64   \n",
      " 9   departure_and_arrival_time_convenience  129880 non-null  object  \n",
      " 10  ease_of_online_booking                  129880 non-null  object  \n",
      " 11  check_in_service                        129880 non-null  object  \n",
      " 12  online_boarding                         129880 non-null  object  \n",
      " 13  gate_location                           129880 non-null  object  \n",
      " 14  on_board_service                        129880 non-null  object  \n",
      " 15  seat_comfort                            129880 non-null  object  \n",
      " 16  leg_room_service                        129880 non-null  object  \n",
      " 17  cleanliness                             129880 non-null  object  \n",
      " 18  food_and_drink                          129880 non-null  object  \n",
      " 19  in_flight_service                       129880 non-null  object  \n",
      " 20  in_flight_wifi_service                  129880 non-null  object  \n",
      " 21  in_flight_entertainment                 129880 non-null  object  \n",
      " 22  baggage_handling                        129880 non-null  object  \n",
      " 23  satisfaction                            129880 non-null  object  \n",
      " 24  age_group                               129880 non-null  category\n",
      "dtypes: category(1), int64(5), object(19)\n",
      "memory usage: 23.9+ MB\n"
     ]
    }
   ],
   "source": [
    "# displaying some information about the dataframe\n",
    "# to confirm data type and null value cleaning completed\n",
    "\n",
    "data.info()"
   ]
  },
  {
   "cell_type": "markdown",
   "id": "5bf010d4",
   "metadata": {},
   "source": [
    "The two visualizations above clearly show that all data cleaning has been applied, indicating that the data is ready for exploration and analysis"
   ]
  },
  {
   "cell_type": "markdown",
   "id": "3517e8a4",
   "metadata": {},
   "source": [
    "<a id='explore'></a>\n",
    "## Data Exploration and Analysis\n",
    "> In this section, I will respond to the business questions, which will assist the airline management make meaningful decisions on ways to serve their customers well.\n",
    "\n",
    "**Recommended Analysis:** The following are the questions I will be solving through out the analysis:\n",
    "1. Which percentage of airline passengers are satisfied? Does it vary by customer type? What about type of travel?\n",
    "2. What is the customer profile for a repeating airline passenger?\n",
    "3. Does flight distance affect customer preferences or flight patterns?\n",
    "4. Which factors contribute to customer satisfaction the most? What about dissatisfaction?"
   ]
  },
  {
   "cell_type": "markdown",
   "id": "e5f88696",
   "metadata": {},
   "source": [
    "### First Question\n",
    "Which percentage of airline passengers are satisfied? Does it vary by customer type? What about type of travel?"
   ]
  },
  {
   "cell_type": "markdown",
   "id": "2f694910",
   "metadata": {},
   "source": [
    "#### Which percentage of airline passengers are satisfied?"
   ]
  },
  {
   "cell_type": "code",
   "execution_count": 20,
   "id": "ee6aa40c",
   "metadata": {
    "ExecuteTime": {
     "end_time": "2024-01-15T13:47:03.443072Z",
     "start_time": "2024-01-15T13:47:03.432300Z"
    }
   },
   "outputs": [],
   "source": [
    "# Function for formating plot's visual\n",
    "def chart_format(x_label, y_label, title):\n",
    "    plt.xlabel(x_label, size = 14)\n",
    "    plt.ylabel(y_label, size = 14)\n",
    "    plt.title(title, size = 14);\n",
    "    \n",
    "    \n",
    "# Function for\n",
    "# customizing the bar label to calculate and display percent\n",
    "# add an if statement so 0 value bars don't have a number\n",
    "def total_val(data):\n",
    "    return float(len(data))\n",
    "    \n",
    "def percentage_calc(total):\n",
    "    for p in ax.patches:\n",
    "        height = p.get_height()\n",
    "        if np.isnan(height):\n",
    "            height=0\n",
    "        ax.text(p.get_x()+p.get_width()/2., height, '{:1.2f}%'.format((height/total)*100), ha=\"center\")\n",
    "\n",
    "        \n",
    "# Function for positioning the legend\n",
    "def legend_pos():\n",
    "    plt.legend(loc='center left', bbox_to_anchor=(1.0, 0.9));"
   ]
  },
  {
   "cell_type": "code",
   "execution_count": 21,
   "id": "d110ae93",
   "metadata": {
    "ExecuteTime": {
     "end_time": "2024-01-15T13:47:03.890427Z",
     "start_time": "2024-01-15T13:47:03.470002Z"
    },
    "scrolled": false
   },
   "outputs": [
    {
     "data": {
      "image/png": "[encoded data removed]",
      "text/plain": [
       "<Figure size 640x480 with 1 Axes>"
      ]
     },
     "metadata": {},
     "output_type": "display_data"
    }
   ],
   "source": [
    "# Choosing a single color for the chart\n",
    "color = sns.color_palette()[0]\n",
    "\n",
    "# Plotting the chart to answer the above Question\n",
    "ax = sns.countplot(data = data, x ='satisfaction', color = color);\n",
    "\n",
    "# Running the chart formatting function\n",
    "chart_format('Satisfaction', 'Number of Passengers', 'Percentage of Satisfied Airline Passengers')\n",
    "\n",
    "# Running the percentage calculating function\n",
    "total = total_val(data)\n",
    "percentage_calc(total)"
   ]
  },
  {
   "cell_type": "markdown",
   "id": "4cb5c204",
   "metadata": {},
   "source": [
    "According to the chart above, approximately 57% of airline passengers are satisfied with the service, while around 43% are neutral or unsatisfied with the service."
   ]
  },
  {
   "cell_type": "markdown",
   "id": "7e0fd9f1",
   "metadata": {},
   "source": [
    "#### Does the percentage of satisfied airline passengers vary by customer type?"
   ]
  },
  {
   "cell_type": "code",
   "execution_count": 22,
   "id": "cd2fa8ca",
   "metadata": {
    "ExecuteTime": {
     "end_time": "2024-01-15T13:47:04.317763Z",
     "start_time": "2024-01-15T13:47:03.893421Z"
    }
   },
   "outputs": [
    {
     "data": {
      "image/png": "[encoded data removed]",
      "text/plain": [
       "<Figure size 640x480 with 1 Axes>"
      ]
     },
     "metadata": {},
     "output_type": "display_data"
    }
   ],
   "source": [
    "# Plotting the chart to answer the above Question\n",
    "ax = sns.countplot(data = data, x = 'customer_type', hue = 'satisfaction');\n",
    "\n",
    "# Running the chart formatting function\n",
    "chart_format('Type of Passengers', 'Number of Passengers', 'Percentage of Satisfied Passengers By Passengers Type')\n",
    "\n",
    "# Running the percentage calculating function\n",
    "percentage_calc(total)\n",
    "\n",
    "\n",
    "# Running the function for positioning the legend\n",
    "legend_pos()"
   ]
  },
  {
   "cell_type": "markdown",
   "id": "6657ecfe",
   "metadata": {},
   "source": [
    "According to the chart above:\n",
    "- Of the 82% of returning customers, around 39% reported being satisfied with the airline's services, while the remaining 43% reported being neutral or unsatisfied.\n",
    "- The remaining 18% passengers represents first-timers. Of them, approximately 14% are neutral or unsatisfied with the airline service, and just about 4% of the first-time passengers are satisfied with the airline services."
   ]
  },
  {
   "cell_type": "markdown",
   "id": "dd05d995",
   "metadata": {},
   "source": [
    "#### Does the percentage of satisfied airline passengers vary by type of travel?"
   ]
  },
  {
   "cell_type": "code",
   "execution_count": 23,
   "id": "fd2cede2",
   "metadata": {
    "ExecuteTime": {
     "end_time": "2024-01-15T13:47:04.735436Z",
     "start_time": "2024-01-15T13:47:04.321756Z"
    },
    "scrolled": false
   },
   "outputs": [
    {
     "data": {
      "image/png": "[encoded data removed]",
      "text/plain": [
       "<Figure size 640x480 with 1 Axes>"
      ]
     },
     "metadata": {},
     "output_type": "display_data"
    }
   ],
   "source": [
    "# Plotting the chart to answer the above Question\n",
    "ax = sns.countplot(data = data, x = 'type_of_travel', hue = 'satisfaction');\n",
    "\n",
    "# Running the chart formatting function\n",
    "chart_format('Type of Travel', 'Number of Passengers', 'Percentage of Satisfied Passengers By Travel Type')\n",
    "\n",
    "# Running the percentage calculating function\n",
    "percentage_calc(total)\n",
    "\n",
    "# Running the function for positioning the legend\n",
    "legend_pos()"
   ]
  },
  {
   "cell_type": "markdown",
   "id": "2d09ec71",
   "metadata": {},
   "source": [
    "According to the chart above:\n",
    "- approximately 69% of passengers travel for business, whereas 31% approximately travel for personal reasons.\n",
    "- 40% of passengers on business trips are satisfied with the airline's service, while around 29% are neutral or dissatisfied.\n",
    "- Only about 3% of customers on personal trip are satisfied with the airline's service, while approximately 28% are neutral or dissatisfied."
   ]
  },
  {
   "cell_type": "markdown",
   "id": "5fa00097",
   "metadata": {},
   "source": [
    "### Second Question\n",
    "What is the customer profile for a repeating airline passenger?"
   ]
  },
  {
   "cell_type": "code",
   "execution_count": 24,
   "id": "283f488b",
   "metadata": {
    "ExecuteTime": {
     "end_time": "2024-01-15T13:47:04.761289Z",
     "start_time": "2024-01-15T13:47:04.738426Z"
    }
   },
   "outputs": [
    {
     "data": {
      "text/plain": [
       "customer_type\n",
       "Returning     106100\n",
       "First-time     23780\n",
       "Name: count, dtype: int64"
      ]
     },
     "execution_count": 24,
     "metadata": {},
     "output_type": "execute_result"
    }
   ],
   "source": [
    "# Cheking the value counts for type of customer\n",
    "\n",
    "data.customer_type.value_counts()"
   ]
  },
  {
   "cell_type": "markdown",
   "id": "aa923385",
   "metadata": {},
   "source": [
    "#### Checking for the percentage of repeating airline passengers"
   ]
  },
  {
   "cell_type": "code",
   "execution_count": 25,
   "id": "4f90fe80",
   "metadata": {
    "ExecuteTime": {
     "end_time": "2024-01-15T13:47:05.108338Z",
     "start_time": "2024-01-15T13:47:04.767278Z"
    }
   },
   "outputs": [
    {
     "data": {
      "image/png": "[encoded data removed]",
      "text/plain": [
       "<Figure size 640x480 with 1 Axes>"
      ]
     },
     "metadata": {},
     "output_type": "display_data"
    }
   ],
   "source": [
    "# Plotting the chart to answer the above Question\n",
    "ax = sns.countplot(data = data, x = 'customer_type', color = color);\n",
    "\n",
    "# Running the chart formatting function\n",
    "chart_format('Type of Passenger', 'Number of Passengers', 'Percentage of Passengers By Passenger Type')\n",
    "\n",
    "# Running the percentage calculating function\n",
    "percentage_calc(total)"
   ]
  },
  {
   "cell_type": "markdown",
   "id": "7b741756",
   "metadata": {},
   "source": [
    "According to the visual above, 23,780 passengers, or 18.31% of the total, are first-time passengers, while 106,100, or 81.69% of the passengers, are repeating the airline."
   ]
  },
  {
   "cell_type": "code",
   "execution_count": 26,
   "id": "a48bd73c",
   "metadata": {
    "ExecuteTime": {
     "end_time": "2024-01-15T13:47:05.161204Z",
     "start_time": "2024-01-15T13:47:05.111333Z"
    }
   },
   "outputs": [],
   "source": [
    "# Extracting the data for returning customer\n",
    "# and saving it in a variable 'return_pass'\n",
    "\n",
    "return_pass = data[data['customer_type'] == 'Returning']"
   ]
  },
  {
   "cell_type": "markdown",
   "id": "e832d59b",
   "metadata": {},
   "source": [
    "#### Checking for the gender distribution of repeating airline passengers"
   ]
  },
  {
   "cell_type": "code",
   "execution_count": 27,
   "id": "3ce8f963",
   "metadata": {
    "ExecuteTime": {
     "end_time": "2024-01-15T13:47:05.436424Z",
     "start_time": "2024-01-15T13:47:05.164201Z"
    }
   },
   "outputs": [
    {
     "data": {
      "image/png": "[encoded data removed]",
      "text/plain": [
       "<Figure size 640x480 with 1 Axes>"
      ]
     },
     "metadata": {},
     "output_type": "display_data"
    }
   ],
   "source": [
    "# Checking for gender distribution amoung the repeating airline passengers\n",
    "ax = sns.countplot(data = return_pass, x = 'gender', color = color);\n",
    "\n",
    "# Running the chart formatting function\n",
    "chart_format('Gender', 'Number of Passengers', 'Gender Distribution of Repeating Airline Passengers')\n",
    "\n",
    "# Running the percentage calculating function\n",
    "total = total_val(return_pass)\n",
    "percentage_calc(total)"
   ]
  },
  {
   "cell_type": "markdown",
   "id": "18c7c9fb",
   "metadata": {},
   "source": [
    "The visual above demonstrates that there is only .01% (15 passengers) variation between male and female passengers who repeat the airline, with 50.01% being female and 49.99% being male."
   ]
  },
  {
   "cell_type": "markdown",
   "id": "055e3198",
   "metadata": {},
   "source": [
    "#### Checking for the age distribution of repeating airline passengers"
   ]
  },
  {
   "cell_type": "code",
   "execution_count": 28,
   "id": "24a7b847",
   "metadata": {
    "ExecuteTime": {
     "end_time": "2024-01-15T13:47:05.688987Z",
     "start_time": "2024-01-15T13:47:05.448395Z"
    },
    "scrolled": false
   },
   "outputs": [
    {
     "data": {
      "image/png": "[encoded data removed]",
      "text/plain": [
       "<Figure size 640x480 with 1 Axes>"
      ]
     },
     "metadata": {},
     "output_type": "display_data"
    }
   ],
   "source": [
    "# Checking for age distribution amoung the repeating airline passengers\n",
    "ax = sns.countplot(data = return_pass, x = 'age_group', color = color);\n",
    "\n",
    "# Running the chart formatting function\n",
    "chart_format('Age Group (Years)', 'Number of Passengers', 'Age Distribution of Repeating Airline Passengers')\n",
    "\n",
    "# # Running the percentage calculating function\n",
    "percentage_calc(total)"
   ]
  },
  {
   "cell_type": "markdown",
   "id": "3392913c",
   "metadata": {},
   "source": [
    "According to the chart above, roughly 47% (49,402) of passengers who return to the airline are between the ages of 41 and 60, approximately 34%(36,067) are between the ages of 21 and 40, and the remaining passengers are either under the age of 21 or over the age of 60."
   ]
  },
  {
   "cell_type": "markdown",
   "id": "6a906e58",
   "metadata": {},
   "source": [
    "#### Checking for the travel type distribution of repeating airline passengers"
   ]
  },
  {
   "cell_type": "code",
   "execution_count": 29,
   "id": "d8373c38",
   "metadata": {
    "ExecuteTime": {
     "end_time": "2024-01-15T13:47:05.714196Z",
     "start_time": "2024-01-15T13:47:05.692980Z"
    }
   },
   "outputs": [
    {
     "data": {
      "text/plain": [
       "type_of_travel\n",
       "Business    66114\n",
       "Personal    39986\n",
       "Name: count, dtype: int64"
      ]
     },
     "execution_count": 29,
     "metadata": {},
     "output_type": "execute_result"
    }
   ],
   "source": [
    "return_pass.type_of_travel.value_counts()"
   ]
  },
  {
   "cell_type": "code",
   "execution_count": 30,
   "id": "27c6bcb5",
   "metadata": {
    "ExecuteTime": {
     "end_time": "2024-01-15T13:47:06.005522Z",
     "start_time": "2024-01-15T13:47:05.718190Z"
    },
    "scrolled": false
   },
   "outputs": [
    {
     "data": {
      "image/png": "[encoded data removed]",
      "text/plain": [
       "<Figure size 640x480 with 1 Axes>"
      ]
     },
     "metadata": {},
     "output_type": "display_data"
    }
   ],
   "source": [
    "# Checking for travel type distribution amoung the repeating airline passengers\n",
    "ax = sns.countplot(data = return_pass, x = 'type_of_travel', color = color);\n",
    "\n",
    "# Running the chart formatting function\n",
    "chart_format('Type of Travel', 'Number of Passengers', 'Repeating Airline Passengers by Travel Type')\n",
    "\n",
    "# # Running the percentage calculating function\n",
    "percentage_calc(total)"
   ]
  },
  {
   "cell_type": "markdown",
   "id": "c1063f85",
   "metadata": {},
   "source": [
    "According to the chart above, 62% of repeat airline passengers are on business trips, while the remaining 38% approximately are on personal trips."
   ]
  },
  {
   "cell_type": "markdown",
   "id": "4e657a5b",
   "metadata": {},
   "source": [
    "#### Checking for the age distribution of repeating airline passengers"
   ]
  },
  {
   "cell_type": "code",
   "execution_count": 31,
   "id": "fdc45e8e",
   "metadata": {
    "ExecuteTime": {
     "end_time": "2024-01-15T13:47:06.292448Z",
     "start_time": "2024-01-15T13:47:06.008518Z"
    },
    "scrolled": false
   },
   "outputs": [
    {
     "data": {
      "image/png": "[encoded data removed]",
      "text/plain": [
       "<Figure size 640x480 with 1 Axes>"
      ]
     },
     "metadata": {},
     "output_type": "display_data"
    }
   ],
   "source": [
    "# Checking for age distribution amoung the repeating airline passengers\n",
    "ax = sns.countplot(data = return_pass, x = 'class', color = color);\n",
    "\n",
    "# Running the chart formatting function\n",
    "chart_format('Type of Class', 'Number of Passengers', 'Repeating Airline Passengers by Travel Class')\n",
    "\n",
    "# Running the percentage calculating function\n",
    "percentage_calc(total)"
   ]
  },
  {
   "cell_type": "markdown",
   "id": "5ec72e62",
   "metadata": {},
   "source": [
    "Given that around 62% of repeat airline passengers are on business trip, It should come as no surprise that the bulk of repeat travelers (Approximately 50%) travel in business class, with economy class passengers (42%) following closely behind. A small number of travelers (8%) also took the Class of Economy Plus flight."
   ]
  },
  {
   "cell_type": "markdown",
   "id": "157bd7c5",
   "metadata": {},
   "source": [
    "#### Checking for the age distribution of repeating airline passengers"
   ]
  },
  {
   "cell_type": "code",
   "execution_count": 32,
   "id": "ef9b61dd",
   "metadata": {
    "ExecuteTime": {
     "end_time": "2024-01-15T13:47:06.597097Z",
     "start_time": "2024-01-15T13:47:06.295443Z"
    },
    "scrolled": false
   },
   "outputs": [
    {
     "data": {
      "image/png": "[encoded data removed]",
      "text/plain": [
       "<Figure size 640x480 with 1 Axes>"
      ]
     },
     "metadata": {},
     "output_type": "display_data"
    }
   ],
   "source": [
    "# Checking for age distribution amoung the repeating airline passengers\n",
    "ax = sns.countplot(data = return_pass, x = 'satisfaction', color = color);\n",
    "\n",
    "# Running the chart formatting function\n",
    "chart_format('Satisfaction', 'Number of Passengers', 'Percentage of Satisfied Repeating Airline Passengers')\n",
    "\n",
    "# Running the percentage calculating function\n",
    "percentage_calc(total)"
   ]
  },
  {
   "cell_type": "markdown",
   "id": "28803292",
   "metadata": {},
   "source": [
    "According to the chart above, 52% of repeating airline customers are dissatisfied with the general services of the airline, while the remaining 48% approximately are satisfied with the services of the airline."
   ]
  },
  {
   "cell_type": "markdown",
   "id": "e0db7a2a",
   "metadata": {},
   "source": [
    "### Third Question\n",
    "Does flight distance affect customer preferences or flight patterns?"
   ]
  },
  {
   "cell_type": "code",
   "execution_count": 43,
   "id": "fa90c470",
   "metadata": {
    "ExecuteTime": {
     "end_time": "2024-01-15T14:00:39.031183Z",
     "start_time": "2024-01-15T14:00:39.003399Z"
    }
   },
   "outputs": [
    {
     "data": {
      "text/html": [
       "<div>\n",
       "<style scoped>\n",
       "    .dataframe tbody tr th:only-of-type {\n",
       "        vertical-align: middle;\n",
       "    }\n",
       "\n",
       "    .dataframe tbody tr th {\n",
       "        vertical-align: top;\n",
       "    }\n",
       "\n",
       "    .dataframe thead th {\n",
       "        text-align: right;\n",
       "    }\n",
       "</style>\n",
       "<table border=\"1\" class=\"dataframe\">\n",
       "  <thead>\n",
       "    <tr style=\"text-align: right;\">\n",
       "      <th></th>\n",
       "      <th>id</th>\n",
       "      <th>gender</th>\n",
       "      <th>age</th>\n",
       "      <th>customer_type</th>\n",
       "      <th>type_of_travel</th>\n",
       "      <th>class</th>\n",
       "      <th>flight_distance</th>\n",
       "      <th>departure_delay</th>\n",
       "      <th>arrival_delay</th>\n",
       "      <th>departure_and_arrival_time_convenience</th>\n",
       "      <th>ease_of_online_booking</th>\n",
       "      <th>check_in_service</th>\n",
       "      <th>online_boarding</th>\n",
       "      <th>gate_location</th>\n",
       "      <th>on_board_service</th>\n",
       "      <th>seat_comfort</th>\n",
       "      <th>leg_room_service</th>\n",
       "      <th>cleanliness</th>\n",
       "      <th>food_and_drink</th>\n",
       "      <th>in_flight_service</th>\n",
       "      <th>in_flight_wifi_service</th>\n",
       "      <th>in_flight_entertainment</th>\n",
       "      <th>baggage_handling</th>\n",
       "      <th>satisfaction</th>\n",
       "      <th>age_group</th>\n",
       "    </tr>\n",
       "  </thead>\n",
       "  <tbody>\n",
       "    <tr>\n",
       "      <th>0</th>\n",
       "      <td>1</td>\n",
       "      <td>Male</td>\n",
       "      <td>48</td>\n",
       "      <td>First-time</td>\n",
       "      <td>Business</td>\n",
       "      <td>Business</td>\n",
       "      <td>821</td>\n",
       "      <td>2</td>\n",
       "      <td>5</td>\n",
       "      <td>Unsure</td>\n",
       "      <td>Unsure</td>\n",
       "      <td>Satisfied</td>\n",
       "      <td>Unsure</td>\n",
       "      <td>Unsure</td>\n",
       "      <td>Unsure</td>\n",
       "      <td>Very Satisfied</td>\n",
       "      <td>Dissatisfied</td>\n",
       "      <td>Very Satisfied</td>\n",
       "      <td>Very Satisfied</td>\n",
       "      <td>Very Satisfied</td>\n",
       "      <td>Unsure</td>\n",
       "      <td>Very Satisfied</td>\n",
       "      <td>Very Satisfied</td>\n",
       "      <td>Neutral or Dissatisfied</td>\n",
       "      <td>41 - 60</td>\n",
       "    </tr>\n",
       "    <tr>\n",
       "      <th>1</th>\n",
       "      <td>2</td>\n",
       "      <td>Female</td>\n",
       "      <td>35</td>\n",
       "      <td>Returning</td>\n",
       "      <td>Business</td>\n",
       "      <td>Business</td>\n",
       "      <td>821</td>\n",
       "      <td>26</td>\n",
       "      <td>39</td>\n",
       "      <td>Dissatisfied</td>\n",
       "      <td>Dissatisfied</td>\n",
       "      <td>Unsure</td>\n",
       "      <td>Very Satisfied</td>\n",
       "      <td>Dissatisfied</td>\n",
       "      <td>Very Satisfied</td>\n",
       "      <td>Satisfied</td>\n",
       "      <td>Very Satisfied</td>\n",
       "      <td>Very Satisfied</td>\n",
       "      <td>Unsure</td>\n",
       "      <td>Very Satisfied</td>\n",
       "      <td>Dissatisfied</td>\n",
       "      <td>Very Satisfied</td>\n",
       "      <td>Very Satisfied</td>\n",
       "      <td>Satisfied</td>\n",
       "      <td>21 - 40</td>\n",
       "    </tr>\n",
       "    <tr>\n",
       "      <th>2</th>\n",
       "      <td>3</td>\n",
       "      <td>Male</td>\n",
       "      <td>41</td>\n",
       "      <td>Returning</td>\n",
       "      <td>Business</td>\n",
       "      <td>Business</td>\n",
       "      <td>853</td>\n",
       "      <td>0</td>\n",
       "      <td>0</td>\n",
       "      <td>Satisfied</td>\n",
       "      <td>Satisfied</td>\n",
       "      <td>Satisfied</td>\n",
       "      <td>Very Satisfied</td>\n",
       "      <td>Satisfied</td>\n",
       "      <td>Unsure</td>\n",
       "      <td>Very Satisfied</td>\n",
       "      <td>Unsure</td>\n",
       "      <td>Very Satisfied</td>\n",
       "      <td>Very Satisfied</td>\n",
       "      <td>Unsure</td>\n",
       "      <td>Satisfied</td>\n",
       "      <td>Unsure</td>\n",
       "      <td>Unsure</td>\n",
       "      <td>Satisfied</td>\n",
       "      <td>41 - 60</td>\n",
       "    </tr>\n",
       "    <tr>\n",
       "      <th>3</th>\n",
       "      <td>4</td>\n",
       "      <td>Male</td>\n",
       "      <td>50</td>\n",
       "      <td>Returning</td>\n",
       "      <td>Business</td>\n",
       "      <td>Business</td>\n",
       "      <td>1905</td>\n",
       "      <td>0</td>\n",
       "      <td>0</td>\n",
       "      <td>Dissatisfied</td>\n",
       "      <td>Dissatisfied</td>\n",
       "      <td>Unsure</td>\n",
       "      <td>Satisfied</td>\n",
       "      <td>Dissatisfied</td>\n",
       "      <td>Very Satisfied</td>\n",
       "      <td>Very Satisfied</td>\n",
       "      <td>Very Satisfied</td>\n",
       "      <td>Satisfied</td>\n",
       "      <td>Satisfied</td>\n",
       "      <td>Very Satisfied</td>\n",
       "      <td>Dissatisfied</td>\n",
       "      <td>Very Satisfied</td>\n",
       "      <td>Very Satisfied</td>\n",
       "      <td>Satisfied</td>\n",
       "      <td>41 - 60</td>\n",
       "    </tr>\n",
       "    <tr>\n",
       "      <th>4</th>\n",
       "      <td>5</td>\n",
       "      <td>Female</td>\n",
       "      <td>49</td>\n",
       "      <td>Returning</td>\n",
       "      <td>Business</td>\n",
       "      <td>Business</td>\n",
       "      <td>3470</td>\n",
       "      <td>0</td>\n",
       "      <td>1</td>\n",
       "      <td>Unsure</td>\n",
       "      <td>Unsure</td>\n",
       "      <td>Unsure</td>\n",
       "      <td>Very Satisfied</td>\n",
       "      <td>Unsure</td>\n",
       "      <td>Unsure</td>\n",
       "      <td>Satisfied</td>\n",
       "      <td>Satisfied</td>\n",
       "      <td>Very Satisfied</td>\n",
       "      <td>Satisfied</td>\n",
       "      <td>Unsure</td>\n",
       "      <td>Unsure</td>\n",
       "      <td>Unsure</td>\n",
       "      <td>Unsure</td>\n",
       "      <td>Satisfied</td>\n",
       "      <td>41 - 60</td>\n",
       "    </tr>\n",
       "  </tbody>\n",
       "</table>\n",
       "</div>"
      ],
      "text/plain": [
       "   id  gender  age customer_type type_of_travel     class  flight_distance  \\\n",
       "0   1    Male   48    First-time       Business  Business              821   \n",
       "1   2  Female   35     Returning       Business  Business              821   \n",
       "2   3    Male   41     Returning       Business  Business              853   \n",
       "3   4    Male   50     Returning       Business  Business             1905   \n",
       "4   5  Female   49     Returning       Business  Business             3470   \n",
       "\n",
       "   departure_delay  arrival_delay departure_and_arrival_time_convenience  \\\n",
       "0                2              5                                 Unsure   \n",
       "1               26             39                           Dissatisfied   \n",
       "2                0              0                              Satisfied   \n",
       "3                0              0                           Dissatisfied   \n",
       "4                0              1                                 Unsure   \n",
       "\n",
       "  ease_of_online_booking check_in_service online_boarding gate_location  \\\n",
       "0                 Unsure        Satisfied          Unsure        Unsure   \n",
       "1           Dissatisfied           Unsure  Very Satisfied  Dissatisfied   \n",
       "2              Satisfied        Satisfied  Very Satisfied     Satisfied   \n",
       "3           Dissatisfied           Unsure       Satisfied  Dissatisfied   \n",
       "4                 Unsure           Unsure  Very Satisfied        Unsure   \n",
       "\n",
       "  on_board_service    seat_comfort leg_room_service     cleanliness  \\\n",
       "0           Unsure  Very Satisfied     Dissatisfied  Very Satisfied   \n",
       "1   Very Satisfied       Satisfied   Very Satisfied  Very Satisfied   \n",
       "2           Unsure  Very Satisfied           Unsure  Very Satisfied   \n",
       "3   Very Satisfied  Very Satisfied   Very Satisfied       Satisfied   \n",
       "4           Unsure       Satisfied        Satisfied  Very Satisfied   \n",
       "\n",
       "   food_and_drink in_flight_service in_flight_wifi_service  \\\n",
       "0  Very Satisfied    Very Satisfied                 Unsure   \n",
       "1          Unsure    Very Satisfied           Dissatisfied   \n",
       "2  Very Satisfied            Unsure              Satisfied   \n",
       "3       Satisfied    Very Satisfied           Dissatisfied   \n",
       "4       Satisfied            Unsure                 Unsure   \n",
       "\n",
       "  in_flight_entertainment baggage_handling             satisfaction age_group  \n",
       "0          Very Satisfied   Very Satisfied  Neutral or Dissatisfied   41 - 60  \n",
       "1          Very Satisfied   Very Satisfied                Satisfied   21 - 40  \n",
       "2                  Unsure           Unsure                Satisfied   41 - 60  \n",
       "3          Very Satisfied   Very Satisfied                Satisfied   41 - 60  \n",
       "4                  Unsure           Unsure                Satisfied   41 - 60  "
      ]
     },
     "execution_count": 43,
     "metadata": {},
     "output_type": "execute_result"
    }
   ],
   "source": [
    "data.head()"
   ]
  },
  {
   "cell_type": "code",
   "execution_count": 63,
   "id": "d348b007",
   "metadata": {
    "ExecuteTime": {
     "end_time": "2024-01-16T11:29:15.662256Z",
     "start_time": "2024-01-16T11:29:15.422097Z"
    }
   },
   "outputs": [],
   "source": [
    "dat_conv = data.departure_and_arrival_time_convenience.value_counts()\n",
    "ease_book = data.ease_of_online_booking.value_counts()\n",
    "check_serv = data.check_in_service.value_counts()\n",
    "onl_board = data.online_boarding.value_counts()\n",
    "gate_loc = data.gate_location.value_counts()\n",
    "board_serv = data.on_board_service.value_counts()\n",
    "seat_comf = data.seat_comfort.value_counts()\n",
    "leg_room_serv = data.leg_room_service.value_counts()\n",
    "clean = data.cleanliness.value_counts()\n",
    "food_drink = data.food_and_drink.value_counts()\n",
    "flight_serv = data.in_flight_service.value_counts()\n",
    "wifi_serv = data.in_flight_wifi_service.value_counts()\n",
    "entertain = data.in_flight_entertainment.value_counts()\n",
    "bag_hand = data.baggage_handling.value_counts()"
   ]
  },
  {
   "cell_type": "code",
   "execution_count": 92,
   "id": "b6a82030",
   "metadata": {
    "ExecuteTime": {
     "end_time": "2024-01-16T13:41:47.998601Z",
     "start_time": "2024-01-16T13:41:47.989896Z"
    }
   },
   "outputs": [],
   "source": [
    "# # plt.xlabel(\"\")\n",
    "# order = ['Very Satisfied', 'Satisfied', 'Unsure', 'Dissatisfied', 'Very Dissatisfied', 'Not Applicable']\n",
    "\n",
    "# def create_chart(col, title, r, c, axes):\n",
    "# #     sns.barplot(ax=axes[axes], y=col.index, x=col.values, order = order)\n",
    "# #     axes[r,c].set_title(title)\n",
    "# #     plt.ylabel(\"\")\n",
    "#     return col"
   ]
  },
  {
   "cell_type": "code",
   "execution_count": 97,
   "id": "2d1503c2",
   "metadata": {
    "ExecuteTime": {
     "end_time": "2024-01-16T13:56:19.289023Z",
     "start_time": "2024-01-16T13:56:17.698394Z"
    }
   },
   "outputs": [
    {
     "data": {
      "text/plain": [
       "Text(0.5, 1.0, 'squirtle')"
      ]
     },
     "execution_count": 97,
     "metadata": {},
     "output_type": "execute_result"
    },
    {
     "data": {
      "image/png": "[encoded data removed]",
      "text/plain": [
       "<Figure size 1500x1000 with 8 Axes>"
      ]
     },
     "metadata": {},
     "output_type": "display_data"
    }
   ],
   "source": [
    "fig, axes = plt.subplots(2, 4, figsize=(15, 10), sharey=True)\n",
    "fig.suptitle('Initial Pokemon - 1st Generation')\n",
    "fig.tight_layout(pad=1.5)\n",
    "\n",
    "order = ['Very Satisfied', 'Satisfied', 'Unsure', 'Dissatisfied', 'Very Dissatisfied', 'Not Applicable']\n",
    "\n",
    "# departure_and_arrival_time_convenience\n",
    "sns.barplot(ax=axes[0,0], y=dat_conv.index, x=dat_conv.values, order = order)\n",
    "\n",
    "# ease_of_online_booking\n",
    "sns.barplot(ax=axes[0,1], y=ease_book.index, x=ease_book.values, order = order)\n",
    "\n",
    "# check_in_service\n",
    "sns.barplot(ax=axes[0,2], y=check_serv.index, x=check_serv.values, order = order)\n",
    "\n",
    "# online_boarding\n",
    "sns.barplot(ax=axes[0,3], y=onl_board.index, x=onl_board.values, order = order)\n",
    "\n",
    "# gate_location\n",
    "sns.barplot(ax=axes[1,0], y=gate_loc.index, x=gate_loc.values, order = order)\n",
    "\n",
    "# on_board_service\n",
    "sns.barplot(ax=axes[1,1], y=board_serv.index, x=board_serv.values, order = order)\n",
    "\n",
    "# seat_comfort\n",
    "sns.barplot(ax=axes[1,2], y=seat_comf.index, x=seat_comf.values, order = order)\n",
    "\n",
    "# leg_room_service\n",
    "sns.barplot(ax=axes[1,3], y=leg_room_serv.index, x=leg_room_serv.values, order = order)"
   ]
  },
  {
   "cell_type": "code",
   "execution_count": null,
   "id": "4c7acd25",
   "metadata": {},
   "outputs": [],
   "source": []
  }
 ],
 "metadata": {
  "kernelspec": {
   "display_name": "Python 3 (ipykernel)",
   "language": "python",
   "name": "python3"
  },
  "language_info": {
   "codemirror_mode": {
    "name": "ipython",
    "version": 3
   },
   "file_extension": ".py",
   "mimetype": "text/x-python",
   "name": "python",
   "nbconvert_exporter": "python",
   "pygments_lexer": "ipython3",
   "version": "3.11.5"
  },
  "toc": {
   "base_numbering": 1,
   "nav_menu": {},
   "number_sections": true,
   "sideBar": true,
   "skip_h1_title": false,
   "title_cell": "Table of Contents",
   "title_sidebar": "Contents",
   "toc_cell": false,
   "toc_position": {},
   "toc_section_display": true,
   "toc_window_display": false
  },
  "varInspector": {
   "cols": {
    "lenName": 16,
    "lenType": 16,
    "lenVar": 40
   },
   "kernels_config": {
    "python": {
     "delete_cmd_postfix": "",
     "delete_cmd_prefix": "del ",
     "library": "var_list.py",
     "varRefreshCmd": "print(var_dic_list())"
    },
    "r": {
     "delete_cmd_postfix": ") ",
     "delete_cmd_prefix": "rm(",
     "library": "var_list.r",
     "varRefreshCmd": "cat(var_dic_list()) "
    }
   },
   "types_to_exclude": [
    "module",
    "function",
    "builtin_function_or_method",
    "instance",
    "_Feature"
   ],
   "window_display": false
  }
 },
 "nbformat": 4,
 "nbformat_minor": 5
}
