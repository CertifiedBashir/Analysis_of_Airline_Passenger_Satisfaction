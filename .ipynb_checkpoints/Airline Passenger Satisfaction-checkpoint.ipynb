{
 "cells": [
  {
   "cell_type": "markdown",
   "id": "96d64f42",
   "metadata": {},
   "source": [
    "# Airline Passenger Satisfaction Analysis\n",
    "\n",
    "> **BY ABDULRAHEEM BASHIR**\n",
    "\n",
    "## Table of Contents\n",
    "<ul>\n",
    "<li><a href=\"#intro\">Introduction</a></li>\n",
    "<li><a href=\"#import\">Importing required files and libraries</a></li>\n",
    "<li><a href=\"#invest\">Data Inspection</a></li>\n",
    "<li><a href=\"#clean\">Data Cleaning</a></li>\n",
    "<li><a href=\"#check\">Sanity Check After Data Cleaning</a></li>\n",
    "<li><a href=\"#explore\">Data Exploration</a></li>\n",
    "<li><a href=\"#rec\">Recommendations</a></li>\n",
    "</ul>"
   ]
  },
  {
   "cell_type": "markdown",
   "id": "0d277407",
   "metadata": {},
   "source": [
    "<a id='intro'></a>\n",
    "## Introduction"
   ]
  },
  {
   "attachments": {},
   "cell_type": "markdown",
   "id": "1f0604dd",
   "metadata": {},
   "source": [
    "> This project is the product of my continuous learning and getting my hands dirty with data analysis in Python.\n",
    "\n",
    "**About Data**\n",
    "\n",
    "This dataset was derived from the data playground of the Maven Analytics platform.\n",
    "\n",
    "**Background info and context**\n",
    "\n",
    "Customer satisfaction scores from 120,000+ airline passengers, including additional information about each passenger, their flight, and type of travel, as well as ther evaluation of different factors like cleanliness, comfort, service, and overall experience.\n",
    "\n",
    "**Recommended Analysis:** The following are the questions I will be solving through out the analysis:\n",
    "1. Which percentage of airline passengers are satisfied? Does it vary by customer type? What about type of travel?\n",
    "2. What is the customer profile for a repeating airline passenger?\n",
    "3. Does flight distance affect customer preferences or flight patterns?\n",
    "4. Which factors contribute to customer satisfaction the most? What about dissatisfaction?\n",
    "\n",
    "**Dataset:** The dataset contains one row for each passanger. The dataset can be downloaded from (Source: John D, via Kaggle).\n",
    "\n",
    "**Attribute Information:** The following are the dataset descriptions:\n",
    "- **ID:** Unique passenger identifier.\n",
    "- **Gender:** Gender of the passenger (Female/Male).\n",
    "- **Age:** Age of the passenger.\n",
    "- **Customer Type:** Type of airline customer (First-time/Returning).\n",
    "- **Type of Travel:** Purpose of the flight (Business/Personal).\n",
    "- **Class:** Travel class in the airplane for the passenger seat.\n",
    "- **Flight Distance:** Flight distance in miles.\n",
    "- **Departure Delay:** Flight departure delay in minutes.\n",
    "- **Arrival Delay:** Flight arrival delay in minutes.\n",
    "- **Departure and Arrival Time Convenience:** Satisfaction level with the convenience of the flight departure and arrival times from 1 (lowest) to 5 (highest) - 0 means \"not applicable\".\n",
    "- **Ease of Online Booking:** Satisfaction level with the online booking experience from 1 (lowest) to 5 (highest) - 0 means \"not applicable\".\n",
    "- **Check-in Service:** Satisfaction level with the check-in service from 1 (lowest) to 5 (highest) - 0 means \"not applicable\".\n",
    "- **Online Boarding:** Satisfaction level with the online boarding experience from 1 (lowest) to 5 (highest) - 0 means \"not applicable\".\n",
    "- **Gate Location:** Satisfaction level with the gate location in the airport from 1 (lowest) to 5 (highest) - 0 means \"not applicable\".\n",
    "- **On-board Service:** Satisfaction level with the on-boarding service in the airport from 1 (lowest) to 5 (highest) - 0 means \"not applicable\".\n",
    "- **Seat Comfort:** Satisfaction level with the comfort of the airplane seat from 1 (lowest) to 5 (highest) - 0 means \"not applicable\".\n",
    "- **Leg Room Service:** Satisfaction level with the leg room of the airplane seat from 1 (lowest) to 5 (highest) - 0 means \"not applicable\".\n",
    "- **Cleanliness:** Satisfaction level with the cleanliness of the airplane from 1 (lowest) to 5 (highest) - 0 means \"not applicable\".\n",
    "- **Food and Drink:** Satisfaction level with the food and drinks on the airplane from 1 (lowest) to 5 (highest) - 0 means \"not applicable\".\n",
    "- **In-flight Service:** Satisfaction level with the in-flight service from 1 (lowest) to 5 (highest) - 0 means \"not applicable\".\n",
    "- **In-flight Wifi Service:** Satisfaction level with the in-flight Wifi service from 1 (lowest) to 5 (highest) - 0 means \"not applicable\".\n",
    "- **In-flight Entertainment:** Satisfaction level with the in-flight entertainment from 1 (lowest) to 5 (highest) - 0 means \"not applicable\".\n",
    "- **Baggage Handling:** Satisfaction level with the baggage handling from the airline from 1 (lowest) to 5 (highest) - 0 means \"not applicable\".\n",
    "- **Satisfaction:** Overall satisfaction level with the airline (Satisfied/Neutral or unsatisfied).\n",
    "\n",
    "I will be providing insights base on the recommended analysis above."
   ]
  },
  {
   "cell_type": "markdown",
   "id": "0ef2614e",
   "metadata": {},
   "source": [
    "<a id='import'></a>\n",
    "## Importing files and libraries\n",
    "> In this section, I will be Importing required files and libraries"
   ]
  },
  {
   "cell_type": "code",
   "execution_count": 2,
   "id": "e33f775e",
   "metadata": {
    "ExecuteTime": {
     "end_time": "2023-12-28T14:29:00.856125Z",
     "start_time": "2023-12-28T14:28:56.295318Z"
    },
    "id": "hdXm_cGCZCpH"
   },
   "outputs": [],
   "source": [
    "# importing all necessary packages\n",
    "\n",
    "import pandas as pd\n",
    "import numpy as np\n",
    "import matplotlib.pyplot as plt\n",
    "import seaborn as sns\n",
    "import warnings\n",
    "warnings.filterwarnings('ignore')"
   ]
  },
  {
   "cell_type": "code",
   "execution_count": 3,
   "id": "1a2020be",
   "metadata": {
    "ExecuteTime": {
     "end_time": "2023-12-28T14:29:00.960716Z",
     "start_time": "2023-12-28T14:29:00.957136Z"
    }
   },
   "outputs": [],
   "source": [
    "# # Setting up the cells to display all Columns and rows\n",
    "\n",
    "# pd.set_option('display.max_columns', None)\n",
    "# pd.set_option('display.max_rows', None)"
   ]
  },
  {
   "cell_type": "code",
   "execution_count": 4,
   "id": "c3964a39",
   "metadata": {
    "ExecuteTime": {
     "end_time": "2023-12-28T14:29:01.389562Z",
     "start_time": "2023-12-28T14:29:01.035285Z"
    }
   },
   "outputs": [],
   "source": [
    "data = pd.read_csv('airline_passenger_satisfaction.csv')"
   ]
  },
  {
   "cell_type": "code",
   "execution_count": null,
   "id": "89f97cb8",
   "metadata": {},
   "outputs": [],
   "source": []
  }
 ],
 "metadata": {
  "kernelspec": {
   "display_name": "Python 3 (ipykernel)",
   "language": "python",
   "name": "python3"
  },
  "language_info": {
   "codemirror_mode": {
    "name": "ipython",
    "version": 3
   },
   "file_extension": ".py",
   "mimetype": "text/x-python",
   "name": "python",
   "nbconvert_exporter": "python",
   "pygments_lexer": "ipython3",
   "version": "3.11.5"
  },
  "toc": {
   "base_numbering": 1,
   "nav_menu": {},
   "number_sections": true,
   "sideBar": true,
   "skip_h1_title": false,
   "title_cell": "Table of Contents",
   "title_sidebar": "Contents",
   "toc_cell": false,
   "toc_position": {},
   "toc_section_display": true,
   "toc_window_display": false
  },
  "varInspector": {
   "cols": {
    "lenName": 16,
    "lenType": 16,
    "lenVar": 40
   },
   "kernels_config": {
    "python": {
     "delete_cmd_postfix": "",
     "delete_cmd_prefix": "del ",
     "library": "var_list.py",
     "varRefreshCmd": "print(var_dic_list())"
    },
    "r": {
     "delete_cmd_postfix": ") ",
     "delete_cmd_prefix": "rm(",
     "library": "var_list.r",
     "varRefreshCmd": "cat(var_dic_list()) "
    }
   },
   "types_to_exclude": [
    "module",
    "function",
    "builtin_function_or_method",
    "instance",
    "_Feature"
   ],
   "window_display": false
  }
 },
 "nbformat": 4,
 "nbformat_minor": 5
}
